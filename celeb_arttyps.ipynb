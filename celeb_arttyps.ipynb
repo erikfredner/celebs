{
 "cells": [
  {
   "cell_type": "markdown",
   "metadata": {},
   "source": [
    "For the top `n` people in both papers, get data about the distribution of article types in which they appear.\n",
    "\n",
    "- Get lists of top n people per paper\n",
    "- Merge and dedupe those\n",
    "- Use resulting list to filter the annualized data\n",
    "- Merge all of the relevant rows into a new data frame\n",
    "- Groupby name (and year?) and count article type"
   ]
  },
  {
   "cell_type": "code",
   "execution_count": 1,
   "metadata": {
    "collapsed": true
   },
   "outputs": [],
   "source": [
    "import os\n",
    "import time\n",
    "from multiprocessing import Pool\n",
    "import pandas as pd"
   ]
  },
  {
   "cell_type": "code",
   "execution_count": 2,
   "metadata": {
    "collapsed": true
   },
   "outputs": [],
   "source": [
    "NAMES = '/oak/stanford/groups/malgeehe/celebs/chicago_results/names_annual'"
   ]
  },
  {
   "cell_type": "code",
   "execution_count": 3,
   "metadata": {
    "collapsed": true
   },
   "outputs": [],
   "source": [
    "TOP = '/oak/stanford/groups/malgeehe/celebs/chicago_results/chicago_name_paper.csv'"
   ]
  },
  {
   "cell_type": "code",
   "execution_count": 4,
   "metadata": {
    "collapsed": true
   },
   "outputs": [],
   "source": [
    "META = '/oak/stanford/groups/malgeehe/celebs/chicago_results/chicago_1919-1939_meta.csv'"
   ]
  },
  {
   "cell_type": "code",
   "execution_count": 5,
   "metadata": {
    "collapsed": true
   },
   "outputs": [],
   "source": [
    "names = pd.read_csv(TOP)"
   ]
  },
  {
   "cell_type": "code",
   "execution_count": 6,
   "metadata": {},
   "outputs": [
    {
     "data": {
      "text/html": [
       "<div>\n",
       "<style scoped>\n",
       "    .dataframe tbody tr th:only-of-type {\n",
       "        vertical-align: middle;\n",
       "    }\n",
       "\n",
       "    .dataframe tbody tr th {\n",
       "        vertical-align: top;\n",
       "    }\n",
       "\n",
       "    .dataframe thead th {\n",
       "        text-align: right;\n",
       "    }\n",
       "</style>\n",
       "<table border=\"1\" class=\"dataframe\">\n",
       "  <thead>\n",
       "    <tr style=\"text-align: right;\">\n",
       "      <th></th>\n",
       "      <th>person</th>\n",
       "      <th>paper</th>\n",
       "      <th>n_mentions</th>\n",
       "    </tr>\n",
       "  </thead>\n",
       "  <tbody>\n",
       "    <tr>\n",
       "      <th>0</th>\n",
       "      <td>N. Clark</td>\n",
       "      <td>Chicago Daily Tribune</td>\n",
       "      <td>10358</td>\n",
       "    </tr>\n",
       "    <tr>\n",
       "      <th>1</th>\n",
       "      <td>- Cago</td>\n",
       "      <td>Chicago Daily Tribune</td>\n",
       "      <td>8054</td>\n",
       "    </tr>\n",
       "    <tr>\n",
       "      <th>2</th>\n",
       "      <td>N. Y.</td>\n",
       "      <td>Chicago Daily Tribune</td>\n",
       "      <td>6072</td>\n",
       "    </tr>\n",
       "    <tr>\n",
       "      <th>3</th>\n",
       "      <td>Van Buren</td>\n",
       "      <td>Chicago Daily Tribune</td>\n",
       "      <td>5497</td>\n",
       "    </tr>\n",
       "    <tr>\n",
       "      <th>4</th>\n",
       "      <td>W. Madison</td>\n",
       "      <td>Chicago Daily Tribune</td>\n",
       "      <td>5250</td>\n",
       "    </tr>\n",
       "  </tbody>\n",
       "</table>\n",
       "</div>"
      ],
      "text/plain": [
       "       person                   paper  n_mentions\n",
       "0    N. Clark  Chicago Daily Tribune        10358\n",
       "1      - Cago  Chicago Daily Tribune         8054\n",
       "2       N. Y.  Chicago Daily Tribune         6072\n",
       "3   Van Buren  Chicago Daily Tribune         5497\n",
       "4  W. Madison  Chicago Daily Tribune         5250"
      ]
     },
     "execution_count": 6,
     "metadata": {},
     "output_type": "execute_result"
    }
   ],
   "source": [
    "names.head()"
   ]
  },
  {
   "cell_type": "code",
   "execution_count": 7,
   "metadata": {},
   "outputs": [
    {
     "data": {
      "text/plain": [
       "2761876"
      ]
     },
     "execution_count": 7,
     "metadata": {},
     "output_type": "execute_result"
    }
   ],
   "source": [
    "names.shape[0]"
   ]
  },
  {
   "cell_type": "markdown",
   "metadata": {},
   "source": [
    "Get top n people per paper:"
   ]
  },
  {
   "cell_type": "code",
   "execution_count": 8,
   "metadata": {
    "collapsed": true
   },
   "outputs": [],
   "source": [
    "papers = names['paper'].unique()"
   ]
  },
  {
   "cell_type": "code",
   "execution_count": 9,
   "metadata": {
    "collapsed": true
   },
   "outputs": [],
   "source": [
    "N = 1000"
   ]
  },
  {
   "cell_type": "code",
   "execution_count": 10,
   "metadata": {
    "collapsed": true
   },
   "outputs": [],
   "source": [
    "L = []\n",
    "for paper in papers:\n",
    "    sub = names[names['paper'] == paper].sort_values('n_mentions', ascending = False)\n",
    "    L.append(list(sub['person'][:N]))"
   ]
  },
  {
   "cell_type": "code",
   "execution_count": 11,
   "metadata": {},
   "outputs": [
    {
     "data": {
      "text/plain": [
       "(1000, 1000)"
      ]
     },
     "execution_count": 11,
     "metadata": {},
     "output_type": "execute_result"
    }
   ],
   "source": [
    "len(L[0]), len(L[1])"
   ]
  },
  {
   "cell_type": "code",
   "execution_count": 12,
   "metadata": {
    "collapsed": true
   },
   "outputs": [],
   "source": [
    "combined = set(L[0] + L[1])"
   ]
  },
  {
   "cell_type": "code",
   "execution_count": 13,
   "metadata": {},
   "outputs": [
    {
     "data": {
      "text/plain": [
       "1908"
      ]
     },
     "execution_count": 13,
     "metadata": {},
     "output_type": "execute_result"
    }
   ],
   "source": [
    "len(combined)"
   ]
  },
  {
   "cell_type": "code",
   "execution_count": 14,
   "metadata": {
    "collapsed": true
   },
   "outputs": [],
   "source": [
    "combined = list(combined)"
   ]
  },
  {
   "cell_type": "markdown",
   "metadata": {},
   "source": [
    "Filtering the annualized data"
   ]
  },
  {
   "cell_type": "code",
   "execution_count": 15,
   "metadata": {
    "collapsed": true
   },
   "outputs": [],
   "source": [
    "names_files = [os.path.join(NAMES,x) for x in os.listdir(NAMES) if '._' not in x]"
   ]
  },
  {
   "cell_type": "code",
   "execution_count": 19,
   "metadata": {},
   "outputs": [],
   "source": [
    "names_files = sorted(names_files)"
   ]
  },
  {
   "cell_type": "code",
   "execution_count": 21,
   "metadata": {
    "collapsed": true
   },
   "outputs": [],
   "source": [
    "def get_data(path):\n",
    "    start = time.time()\n",
    "    data = pd.read_csv(path)\n",
    "    sub = data[data['person'].isin(combined)]\n",
    "    total = round(time.time() - start)\n",
    "    print('completed {} in {} seconds'.format(os.path.split(path)[1], total))\n",
    "    return sub[['person','paper','year','doc_type', 'n_words']]"
   ]
  },
  {
   "cell_type": "code",
   "execution_count": 22,
   "metadata": {},
   "outputs": [
    {
     "name": "stdout",
     "output_type": "stream",
     "text": [
      "completed 1921_names.csv in 40 seconds\n",
      "completed 1926_names.csv in 46 seconds\n",
      "completed 1922_names.csv in 53 seconds\n",
      "completed 1927_names.csv in 62 seconds\n",
      "completed 1925_names.csv in 64 seconds\n",
      "completed 1920_names.csv in 66 seconds\n",
      "completed 1928_names.csv in 72 seconds\n",
      "completed 1919_names.csv in 73 seconds\n",
      "completed 1924_names.csv in 75 seconds\n",
      "completed 1929_names.csv in 80 seconds\n",
      "completed 1939_names.csv in 82 seconds\n",
      "completed 1923_names.csv in 83 seconds\n",
      "completed 1930_names.csv in 85 seconds\n",
      "completed 1936_names.csv in 89 seconds\n",
      "completed 1938_names.csv in 102 seconds\n",
      "completed 1934_names.csv in 105 seconds\n",
      "completed 1931_names.csv in 109 seconds\n",
      "completed 1933_names.csv in 111 seconds\n",
      "completed 1932_names.csv in 112 seconds\n",
      "completed 1937_names.csv in 115 seconds\n",
      "completed 1935_names.csv in 121 seconds\n"
     ]
    }
   ],
   "source": [
    "data = None\n",
    "\n",
    "with Pool() as p:\n",
    "    data = p.map(get_data, names_files)"
   ]
  },
  {
   "cell_type": "code",
   "execution_count": 23,
   "metadata": {
    "collapsed": true
   },
   "outputs": [],
   "source": [
    "df = pd.concat(data)"
   ]
  },
  {
   "cell_type": "code",
   "execution_count": 25,
   "metadata": {
    "collapsed": true
   },
   "outputs": [],
   "source": [
    "g = df.groupby(['person','paper','year','doc_type']).sum() # count number of words"
   ]
  },
  {
   "cell_type": "code",
   "execution_count": 27,
   "metadata": {},
   "outputs": [],
   "source": [
    "g.to_csv('/oak/stanford/groups/malgeehe/celebs/chicago_results/person_paper_year_doctype_ntoks.csv')"
   ]
  },
  {
   "cell_type": "code",
   "execution_count": 28,
   "metadata": {
    "collapsed": true
   },
   "outputs": [],
   "source": [
    "g = df.groupby(['person','paper','year','doc_type']).count() # count number of articles of type"
   ]
  },
  {
   "cell_type": "code",
   "execution_count": 30,
   "metadata": {
    "collapsed": true
   },
   "outputs": [],
   "source": [
    "g.to_csv('/oak/stanford/groups/malgeehe/celebs/chicago_results/person_paper_year_doctype_ndocs.csv')"
   ]
  },
  {
   "cell_type": "markdown",
   "metadata": {},
   "source": [
    "Do aggregations, not annualized"
   ]
  },
  {
   "cell_type": "code",
   "execution_count": 31,
   "metadata": {
    "collapsed": true
   },
   "outputs": [],
   "source": [
    "g = df.groupby(['person','paper','doc_type']).sum() # count number of words"
   ]
  },
  {
   "cell_type": "code",
   "execution_count": 34,
   "metadata": {},
   "outputs": [],
   "source": [
    "# drop irrelevant columns\n",
    "g['n_words'].to_csv('/oak/stanford/groups/malgeehe/celebs/chicago_results/person_paper_doctype_ntoks.csv')"
   ]
  },
  {
   "cell_type": "code",
   "execution_count": 35,
   "metadata": {
    "collapsed": true
   },
   "outputs": [],
   "source": [
    "g = df.groupby(['person','paper','doc_type']).count() # count number of words"
   ]
  },
  {
   "cell_type": "code",
   "execution_count": 37,
   "metadata": {},
   "outputs": [],
   "source": [
    "g = pd.DataFrame(g['n_words'])"
   ]
  },
  {
   "cell_type": "code",
   "execution_count": 40,
   "metadata": {},
   "outputs": [],
   "source": [
    "g.columns = ['n_docs']"
   ]
  },
  {
   "cell_type": "code",
   "execution_count": 42,
   "metadata": {
    "collapsed": true
   },
   "outputs": [],
   "source": [
    "g.to_csv('/oak/stanford/groups/malgeehe/celebs/chicago_results/person_paper_doctype_ndocs.csv')"
   ]
  }
 ],
 "metadata": {
  "kernelspec": {
   "display_name": "Python 3",
   "language": "python",
   "name": "python3"
  },
  "language_info": {
   "codemirror_mode": {
    "name": "ipython",
    "version": 3
   },
   "file_extension": ".py",
   "mimetype": "text/x-python",
   "name": "python",
   "nbconvert_exporter": "python",
   "pygments_lexer": "ipython3",
   "version": "3.6.1"
  }
 },
 "nbformat": 4,
 "nbformat_minor": 2
}
