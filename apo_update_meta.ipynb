{
 "cells": [
  {
   "cell_type": "markdown",
   "metadata": {},
   "source": [
    "Updating the metadata files to reflect their true paths on Sherlock"
   ]
  },
  {
   "cell_type": "code",
   "execution_count": 1,
   "metadata": {
    "collapsed": true
   },
   "outputs": [],
   "source": [
    "import pandas as pd\n",
    "import os\n",
    "import time\n",
    "# from multiprocessing import Pool"
   ]
  },
  {
   "cell_type": "code",
   "execution_count": 2,
   "metadata": {
    "collapsed": true
   },
   "outputs": [],
   "source": [
    "loc = '/oak/stanford/groups/malgeehe/corpora/apo/metadata/lila_meta/'"
   ]
  },
  {
   "cell_type": "code",
   "execution_count": 3,
   "metadata": {
    "collapsed": true
   },
   "outputs": [],
   "source": [
    "sher = '/oak/stanford/groups/malgeehe/corpora/apo/ProQuest_AmPeriodicals' # location of zips on sherlock"
   ]
  },
  {
   "cell_type": "code",
   "execution_count": 4,
   "metadata": {
    "collapsed": true
   },
   "outputs": [],
   "source": [
    "csvs = [os.path.join(loc,x) for x in os.listdir(loc) if x.endswith('.csv')]"
   ]
  },
  {
   "cell_type": "code",
   "execution_count": 5,
   "metadata": {
    "collapsed": true
   },
   "outputs": [],
   "source": [
    "def update_meta(csv):\n",
    "    start = time.time()\n",
    "    \n",
    "    df = pd.read_csv(csv, low_memory = False) # mixed dtypes\n",
    "    \n",
    "    # make sherlock zip_paths\n",
    "    df['archive'] = [os.path.join(sher, os.path.split(x)[1]) for x in df['zip_path']]\n",
    "\n",
    "    # clarify time\n",
    "    df['year'] = [int(str(x)[:4]) for x in df['numericpubdate']]\n",
    "    df['month'] = [int(str(x)[4:6]) for x in df['numericpubdate']]\n",
    "    df['day'] = [int(str(x)[6:]) for x in df['numericpubdate']]\n",
    "\n",
    "    # retain columns valuable on sherlock\n",
    "    cols = ['recordid', 'recordtitle', 'objecttype', 'year', 'month', 'day', 'file_name', 'title',\n",
    "            'publicationid', 'qualifier',  'archive', 'n_valid_words', 'ocr_acc']\n",
    "\n",
    "    names = ['record_id', 'record_title', 'record_type', 'year', 'month', 'day', 'file_name', 'pub_title', \n",
    "             'pub_id', 'pub_location', 'zip_path', 'record_tokens', 'record_ocr']\n",
    "\n",
    "    # drop old cols and rename\n",
    "    df = df[cols]\n",
    "    df.columns = names\n",
    "\n",
    "    # make record_id index\n",
    "    df.set_index('record_id', inplace = True)\n",
    "\n",
    "    # write output\n",
    "    out = '/oak/stanford/groups/malgeehe/corpora/apo/metadata/sherlock_meta'\n",
    "    filename = os.path.split(csv)[1].replace('merge', 'sherlock')\n",
    "    filepath = os.path.join(out, filename)\n",
    "    df.to_csv(filepath)\n",
    "    \n",
    "    total = round(time.time() - start)\n",
    "    print('{} in {} seconds'.format(filepath, total))\n",
    "    return"
   ]
  },
  {
   "cell_type": "code",
   "execution_count": null,
   "metadata": {
    "collapsed": true
   },
   "outputs": [],
   "source": [
    "for x in csvs:\n",
    "    update_meta(x)"
   ]
  },
  {
   "cell_type": "code",
   "execution_count": null,
   "metadata": {
    "collapsed": true
   },
   "outputs": [],
   "source": [
    "# with Pool() as p:\n",
    "#     files = p.map(update_meta, csvs)"
   ]
  }
 ],
 "metadata": {
  "kernelspec": {
   "display_name": "Python 3",
   "language": "python",
   "name": "python3"
  },
  "language_info": {
   "codemirror_mode": {
    "name": "ipython",
    "version": 3
   },
   "file_extension": ".py",
   "mimetype": "text/x-python",
   "name": "python",
   "nbconvert_exporter": "python",
   "pygments_lexer": "ipython3",
   "version": "3.6.1"
  }
 },
 "nbformat": 4,
 "nbformat_minor": 2
}
