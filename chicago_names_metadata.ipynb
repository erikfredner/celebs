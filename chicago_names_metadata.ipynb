{
 "cells": [
  {
   "cell_type": "markdown",
   "metadata": {},
   "source": [
    "# Chicago merge names and preexisting metadata\n",
    "\n",
    "- Import full names extracted from news articles\n",
    "- Match filenames with existing metadata filenames\n",
    "- pd.Merge results\n",
    "- Export aggregate mentions table\n",
    "- Export series of annualized tables to traceback mentions"
   ]
  },
  {
   "cell_type": "code",
   "execution_count": 1,
   "metadata": {
    "collapsed": true
   },
   "outputs": [],
   "source": [
    "import os\n",
    "import pandas as pd"
   ]
  },
  {
   "cell_type": "code",
   "execution_count": 2,
   "metadata": {
    "collapsed": true
   },
   "outputs": [],
   "source": [
    "# get name files\n",
    "base = '/scratch/groups/malgeehe/celebs/chicago_people/full_names'\n",
    "files = [os.path.join(base,x) for x in os.listdir(base) if x.endswith('.tsv')]"
   ]
  },
  {
   "cell_type": "code",
   "execution_count": 3,
   "metadata": {},
   "outputs": [
    {
     "data": {
      "text/plain": [
       "300"
      ]
     },
     "execution_count": 3,
     "metadata": {},
     "output_type": "execute_result"
    }
   ],
   "source": [
    "len(files)"
   ]
  },
  {
   "cell_type": "code",
   "execution_count": 4,
   "metadata": {},
   "outputs": [
    {
     "name": "stdout",
     "output_type": "stream",
     "text": [
      "9"
     ]
    }
   ],
   "source": [
    "# import data\n",
    "data = []\n",
    "\n",
    "for i,file in enumerate(files):\n",
    "    temp = pd.read_csv(file, sep='\\t')\n",
    "    temp.columns = ['path','person']\n",
    "    data.append(temp)"
   ]
  },
  {
   "cell_type": "code",
   "execution_count": 6,
   "metadata": {
    "collapsed": true
   },
   "outputs": [],
   "source": [
    "df = pd.concat(data)"
   ]
  },
  {
   "cell_type": "code",
   "execution_count": null,
   "metadata": {},
   "outputs": [],
   "source": [
    "# this kills it on sherlock\n",
    "df['file_id'] = [os.path.split(x)[-1].split('.txt')[0] for x in df['path']]"
   ]
  },
  {
   "cell_type": "code",
   "execution_count": 7,
   "metadata": {
    "collapsed": true
   },
   "outputs": [],
   "source": [
    "# import metadata\n",
    "meta = pd.read_csv('/scratch/groups/malgeehe/celebs/chicago_meta/chicago_1919-1939_meta.csv')\n",
    "meta['file_id'] = [os.path.split(x)[-1].split('.txt')[0] for x in meta['fullpath']]\n",
    "meta['title_normed'] = [x.split('(')[0] for x in meta['title']]"
   ]
  },
  {
   "cell_type": "code",
   "execution_count": 8,
   "metadata": {
    "collapsed": true
   },
   "outputs": [],
   "source": [
    "# calculate overlap between groups\n",
    "overlap = list(set(meta['file_id']) & set(df['file_id']))"
   ]
  },
  {
   "cell_type": "code",
   "execution_count": 9,
   "metadata": {},
   "outputs": [
    {
     "name": "stdout",
     "output_type": "stream",
     "text": [
      "# names: 321144\n"
     ]
    }
   ],
   "source": [
    "# filter date-relevant names\n",
    "subset = df[df['file_id'].isin(overlap)]\n",
    "subset = pd.merge(subset,meta,on='file_id')\n",
    "\n",
    "print('# names: {}'.format(subset.shape[0]))"
   ]
  },
  {
   "cell_type": "code",
   "execution_count": 11,
   "metadata": {},
   "outputs": [
    {
     "data": {
      "text/html": [
       "<div>\n",
       "<style scoped>\n",
       "    .dataframe tbody tr th:only-of-type {\n",
       "        vertical-align: middle;\n",
       "    }\n",
       "\n",
       "    .dataframe tbody tr th {\n",
       "        vertical-align: top;\n",
       "    }\n",
       "\n",
       "    .dataframe thead th {\n",
       "        text-align: right;\n",
       "    }\n",
       "</style>\n",
       "<table border=\"1\" class=\"dataframe\">\n",
       "  <thead>\n",
       "    <tr style=\"text-align: right;\">\n",
       "      <th></th>\n",
       "      <th>year</th>\n",
       "      <th>n_mentions</th>\n",
       "    </tr>\n",
       "    <tr>\n",
       "      <th>person</th>\n",
       "      <th></th>\n",
       "      <th></th>\n",
       "    </tr>\n",
       "  </thead>\n",
       "  <tbody>\n",
       "    <tr>\n",
       "      <th>N. Clark</th>\n",
       "      <td>1935</td>\n",
       "      <td>73</td>\n",
       "    </tr>\n",
       "    <tr>\n",
       "      <th>- Cago</th>\n",
       "      <td>1935</td>\n",
       "      <td>66</td>\n",
       "    </tr>\n",
       "    <tr>\n",
       "      <th>N. Y.</th>\n",
       "      <td>1935</td>\n",
       "      <td>64</td>\n",
       "    </tr>\n",
       "    <tr>\n",
       "      <th>- Cago</th>\n",
       "      <td>1937</td>\n",
       "      <td>54</td>\n",
       "    </tr>\n",
       "    <tr>\n",
       "      <th>W. Madison</th>\n",
       "      <td>1935</td>\n",
       "      <td>53</td>\n",
       "    </tr>\n",
       "  </tbody>\n",
       "</table>\n",
       "</div>"
      ],
      "text/plain": [
       "            year  n_mentions\n",
       "person                      \n",
       "N. Clark    1935          73\n",
       "- Cago      1935          66\n",
       "N. Y.       1935          64\n",
       "- Cago      1937          54\n",
       "W. Madison  1935          53"
      ]
     },
     "execution_count": 11,
     "metadata": {},
     "output_type": "execute_result"
    }
   ],
   "source": [
    "# process aggregate mentions of name per year\n",
    "name_year = subset[['person','year','file_id']]\n",
    "name_year = name_year.groupby(['person','year']).count()\n",
    "name_year.reset_index(inplace=True)\n",
    "name_year.columns = ['person','year','n_mentions']\n",
    "name_year.sort_values('n_mentions',ascending=False,inplace=True)\n",
    "name_year.set_index('person',inplace=True)\n",
    "name_year.head()\n",
    "# write output here"
   ]
  },
  {
   "cell_type": "code",
   "execution_count": 12,
   "metadata": {},
   "outputs": [
    {
     "data": {
      "text/html": [
       "<div>\n",
       "<style scoped>\n",
       "    .dataframe tbody tr th:only-of-type {\n",
       "        vertical-align: middle;\n",
       "    }\n",
       "\n",
       "    .dataframe tbody tr th {\n",
       "        vertical-align: top;\n",
       "    }\n",
       "\n",
       "    .dataframe thead th {\n",
       "        text-align: right;\n",
       "    }\n",
       "</style>\n",
       "<table border=\"1\" class=\"dataframe\">\n",
       "  <thead>\n",
       "    <tr style=\"text-align: right;\">\n",
       "      <th></th>\n",
       "      <th>person</th>\n",
       "      <th>year</th>\n",
       "      <th>paper</th>\n",
       "      <th>n_mentions</th>\n",
       "    </tr>\n",
       "  </thead>\n",
       "  <tbody>\n",
       "    <tr>\n",
       "      <th>203797</th>\n",
       "      <td>N. Clark</td>\n",
       "      <td>1935</td>\n",
       "      <td>Chicago Daily Tribune</td>\n",
       "      <td>73</td>\n",
       "    </tr>\n",
       "    <tr>\n",
       "      <th>1510</th>\n",
       "      <td>- Cago</td>\n",
       "      <td>1935</td>\n",
       "      <td>Chicago Daily Tribune</td>\n",
       "      <td>61</td>\n",
       "    </tr>\n",
       "    <tr>\n",
       "      <th>210035</th>\n",
       "      <td>N. Y.</td>\n",
       "      <td>1935</td>\n",
       "      <td>Chicago Daily Tribune</td>\n",
       "      <td>57</td>\n",
       "    </tr>\n",
       "    <tr>\n",
       "      <th>275510</th>\n",
       "      <td>W. Madison</td>\n",
       "      <td>1935</td>\n",
       "      <td>Chicago Daily Tribune</td>\n",
       "      <td>53</td>\n",
       "    </tr>\n",
       "    <tr>\n",
       "      <th>1514</th>\n",
       "      <td>- Cago</td>\n",
       "      <td>1937</td>\n",
       "      <td>Chicago Daily Tribune</td>\n",
       "      <td>53</td>\n",
       "    </tr>\n",
       "  </tbody>\n",
       "</table>\n",
       "</div>"
      ],
      "text/plain": [
       "            person  year                   paper  n_mentions\n",
       "203797    N. Clark  1935  Chicago Daily Tribune           73\n",
       "1510        - Cago  1935  Chicago Daily Tribune           61\n",
       "210035       N. Y.  1935  Chicago Daily Tribune           57\n",
       "275510  W. Madison  1935  Chicago Daily Tribune           53\n",
       "1514        - Cago  1937  Chicago Daily Tribune           53"
      ]
     },
     "execution_count": 12,
     "metadata": {},
     "output_type": "execute_result"
    }
   ],
   "source": [
    "# process mentions of person per paper per ear\n",
    "name_paper_year = subset[['person','year','title_normed','file_id']]\n",
    "name_paper_year = name_paper_year.groupby(['person','year','title_normed']).count()\n",
    "name_paper_year.reset_index(inplace=True)\n",
    "name_paper_year.columns=['person','year','paper','n_mentions']\n",
    "name_paper_year.sort_values('n_mentions',ascending=False,inplace=True)\n",
    "name_paper_year.head()\n",
    "#write output here"
   ]
  },
  {
   "cell_type": "code",
   "execution_count": null,
   "metadata": {
    "collapsed": true
   },
   "outputs": [],
   "source": [
    "# create annualized tables with clean meta\n",
    "for year in range(1919,1940):\n",
    "    year_meta = subset[subset['year']==year]\n",
    "    year_overlap = list(set(year_meta['file_id']) & set(df['file_id']))\n",
    "    year_names = df[df['file_id'].isin(year_overlap)]\n",
    "    year_table = pd.merge(year_names,year_meta,on='file_id')\n",
    "    # rename and reorder columns appropriately\n",
    "    clmns = ['file_id', 'person_y', 'title_normed', 'year', 'objecttype', 'recordtitle',\n",
    "             'n_valid_words', 'ocr_acc', 'path_y']\n",
    "    year_table = year_table[clmns]\n",
    "    year_table.columns = ['file_id','person','paper','year','doc_type','doc_title','n_words','ocr','xml_path']\n",
    "    out_dir = '/scratch/groups/malgeehe/celebs/chicago_people/results/names_annual'\n",
    "    filename = '{}_names.csv'.format(year)\n",
    "    out_path = os.path.join(out_dir,filename)\n",
    "    year_table.to_csv(out_path)"
   ]
  },
  {
   "cell_type": "markdown",
   "metadata": {},
   "source": [
    "Annual csvs going to be in GB"
   ]
  },
  {
   "cell_type": "markdown",
   "metadata": {},
   "source": [
    "We may well want to scale these name mentions. That's an interpretation decision for the group."
   ]
  },
  {
   "cell_type": "markdown",
   "metadata": {},
   "source": [
    "# N.B. We processed way more files beyond 1919-1939\n",
    "...why is it that there are so many fewer files in the metadata table than in the archive? Did I process all of the Tribune and the Defender? That might explain some of the anachronous names...\n",
    "\n",
    "This might be the problem:"
   ]
  },
  {
   "cell_type": "code",
   "execution_count": null,
   "metadata": {
    "collapsed": true
   },
   "outputs": [],
   "source": [
    "meta = '/scratch/groups/malgeehe/celebs/chicago_meta/chicago_subcorpus_meta.csv'"
   ]
  },
  {
   "cell_type": "code",
   "execution_count": null,
   "metadata": {
    "collapsed": true
   },
   "outputs": [],
   "source": [
    "df = pd.read_csv(meta)"
   ]
  },
  {
   "cell_type": "code",
   "execution_count": null,
   "metadata": {
    "collapsed": true
   },
   "outputs": [],
   "source": [
    "df.shape"
   ]
  },
  {
   "cell_type": "markdown",
   "metadata": {},
   "source": [
    "Even that only gets to a million! Where are these other files coming from?? The initial Chicago subset was 3.1M. Maybe I mistakenly processed every article in Chicago...?"
   ]
  }
 ],
 "metadata": {
  "kernelspec": {
   "display_name": "Python 3",
   "language": "python",
   "name": "python3"
  },
  "language_info": {
   "codemirror_mode": {
    "name": "ipython",
    "version": 3
   },
   "file_extension": ".py",
   "mimetype": "text/x-python",
   "name": "python",
   "nbconvert_exporter": "python",
   "pygments_lexer": "ipython3",
   "version": "3.6.1"
  }
 },
 "nbformat": 4,
 "nbformat_minor": 2
}
