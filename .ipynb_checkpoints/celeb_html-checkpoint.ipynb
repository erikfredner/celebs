{
 "cells": [
  {
   "cell_type": "markdown",
   "metadata": {},
   "source": [
    "Creates an HTML document for an individual person in the corpus containing:\n",
    "- A date-ordered list of documents in which they appear, and the relevant paper\n",
    "- Which link to full-text copies of those articles"
   ]
  },
  {
   "cell_type": "code",
   "execution_count": 1,
   "metadata": {
    "collapsed": true
   },
   "outputs": [],
   "source": [
    "import os\n",
    "from lxml import etree\n",
    "import pandas as pd\n",
    "from multiprocessing import Pool\n",
    "import random\n",
    "import time"
   ]
  },
  {
   "cell_type": "code",
   "execution_count": 2,
   "metadata": {
    "collapsed": true
   },
   "outputs": [],
   "source": [
    "TEMPLATE = '''<!DOCTYPE html>\n",
    "<html lang=\"en\">\n",
    "  <head>\n",
    "    <meta charset=\"utf-8\">\n",
    "    <title>{celeb_name}</title>\n",
    "  </head>\n",
    "  <body>\n",
    "  \n",
    "    <header>\n",
    "        <h1>{celeb_name}</h1>\n",
    "    </header>\n",
    "    \n",
    "    <ul>\n",
    "        {toc}\n",
    "    </ul>\n",
    "    \n",
    "    {documents}\n",
    "    \n",
    "  </body>\n",
    "</html>\n",
    "'''"
   ]
  },
  {
   "cell_type": "code",
   "execution_count": 3,
   "metadata": {
    "collapsed": true
   },
   "outputs": [],
   "source": [
    "META = '/oak/stanford/groups/malgeehe/celebs/chicago_results/names_annual'\n",
    "META = [os.path.join(META, x) for x in os.listdir(META) if '._' not in x]\n",
    "META = sorted(META)"
   ]
  },
  {
   "cell_type": "code",
   "execution_count": 4,
   "metadata": {
    "collapsed": true
   },
   "outputs": [],
   "source": [
    "def filter_meta(files, name):\n",
    "    L = []\n",
    "    for file in files:\n",
    "#         fn = os.path.split(file)[1]\n",
    "#         print('\\rchecking {}'.format(fn), end = '')\n",
    "        with open(file) as f:\n",
    "            for line in f:\n",
    "                if name in line:\n",
    "                    L.append(file)\n",
    "#                     print('\\rfound {} in {}'.format(name, fn), end = '')\n",
    "                    break\n",
    "            continue\n",
    "    return L"
   ]
  },
  {
   "cell_type": "code",
   "execution_count": 5,
   "metadata": {
    "collapsed": true
   },
   "outputs": [],
   "source": [
    "def get_xml_paths(csv, name):\n",
    "    df = pd.read_csv(csv)\n",
    "    subset = df[df['person'].str.match(name)]\n",
    "    return subset, list(subset['xml_path'].unique())"
   ]
  },
  {
   "cell_type": "code",
   "execution_count": 6,
   "metadata": {
    "collapsed": true
   },
   "outputs": [],
   "source": [
    "def make_p(path, name):\n",
    "    with open(path) as f:\n",
    "        tree = etree.parse(f)\n",
    "        # get all objects matching type\n",
    "        words = [x.text for x in tree.iterfind(\".//word\")]\n",
    "        names = [x for x in name.strip().lower().split(' ') if x]\n",
    "        # mark target terms\n",
    "        L = []\n",
    "        for word in words:\n",
    "            if '<' or '>' in word: # prevent unintended html formatting\n",
    "                word = word.replace('<', '').replace('>', '')\n",
    "            if word.lower() in names:\n",
    "                fmt = '<mark>' + word + '</mark>'\n",
    "                L.append(fmt)\n",
    "            else:\n",
    "                L.append(word)\n",
    "        text = ' '.join(L)\n",
    "        text = '<p>' + text + '</p>'\n",
    "        return text"
   ]
  },
  {
   "cell_type": "code",
   "execution_count": 7,
   "metadata": {
    "collapsed": true
   },
   "outputs": [],
   "source": [
    "def make_header_bullet(path, subset, id_num, p):\n",
    "    meta = subset[subset['xml_path'] == path][:1] # take top row in case multiple rows\n",
    "    d = meta.to_dict('index')\n",
    "    d = [x for x in d.values()][0] # dumb\n",
    "    data = str(d['year']) + '\\t<i>' + d['paper'].strip() + '</i>\\t' + d['doc_type']\n",
    "    header = '<a id =\"{}\"><h3>{}</h3></a>\\n<p>{}</p>\\n{}'.format(id_num, d['doc_title'].title(),\n",
    "                                                                      data, p) \n",
    "    bullet = '<li><a href=\"#{}\">{data}:\\t\"{title}\"</a>'.format(id_num, data = data,\n",
    "                                                              title = d['doc_title'].title())\n",
    "    return header, bullet"
   ]
  },
  {
   "cell_type": "code",
   "execution_count": 8,
   "metadata": {
    "collapsed": true
   },
   "outputs": [],
   "source": [
    "def update_docs(header, bullet):\n",
    "    headers += '\\n' + header\n",
    "    bullets += '\\n' + bullet\n",
    "    return headers, bullets"
   ]
  },
  {
   "cell_type": "code",
   "execution_count": 9,
   "metadata": {
    "collapsed": true
   },
   "outputs": [],
   "source": [
    "def customize_template(template, name, headers, bullets):\n",
    "    return template.format(celeb_name = name, toc = bullets, documents = headers)"
   ]
  },
  {
   "cell_type": "code",
   "execution_count": 54,
   "metadata": {
    "collapsed": true
   },
   "outputs": [],
   "source": [
    "def get_html_texts(tup): # dumb\n",
    "    name, META, TEMPLATE = tup\n",
    "    csvs = filter_meta(META, name)\n",
    "    id_num = 0\n",
    "    headers = ''\n",
    "    bullets = ''\n",
    "    \n",
    "    for i, csv in enumerate(csvs):\n",
    "#         print('\\rcsv #{} of {}'.format(i + 1, len(csvs)), end = '')\n",
    "        subset, paths = get_xml_paths(csv, name)\n",
    "        for i, path in enumerate(paths):\n",
    "            p = make_p(path, name)\n",
    "            header, bullet = make_header_bullet(path, subset, id_num, p)\n",
    "            id_num += 1\n",
    "            headers += '\\n' + header\n",
    "            bullets += '\\n' + bullet\n",
    "#             pct = round((i/len(paths)) * 100)\n",
    "#             if pct % 10 == 0:\n",
    "#                 print('\\r{}% of paths complete'.format(pct), end = '')\n",
    "    \n",
    "    html = customize_template(TEMPLATE, name, headers, bullets)\n",
    "    fn = name.lower().strip().split(' ')\n",
    "    fn = '_'.join(fn) + '.html'\n",
    "    fn = os.path.join('/oak/stanford/groups/malgeehe/celebs/chicago_results/names_html', fn)\n",
    "    \n",
    "    with open(fn, 'w') as f:\n",
    "        f.write(html)\n",
    "        f.close()\n",
    "        \n",
    "    return fn"
   ]
  },
  {
   "cell_type": "code",
   "execution_count": 55,
   "metadata": {
    "collapsed": true
   },
   "outputs": [],
   "source": [
    "people = '''Uncle Sam\n",
    "Charles G. Dawes\n",
    "Bobby Jones\n",
    "Joan Crawford\n",
    "Westbrook Pegler\n",
    "Clark Gable\n",
    "Quin Ryan\n",
    "Len Small\n",
    "Potter Palmer\n",
    "Frederick Stock\n",
    "Gary Cooper\n",
    "Mary Pickford\n",
    "Eddie Cantor\n",
    "Barney Ross\n",
    "Max Baer\n",
    "Al Capone\n",
    "Charles A. Lindbergh\n",
    "A. A. Sprague\n",
    "Gene Tunney\n",
    "Greta Garbo\n",
    "Norma Shearer\n",
    "Harry Cooper\n",
    "John S. Clark\n",
    "Edward J. Kelly\n",
    "Ted Lyons\n",
    "Santa Claus\n",
    "Alfred E. Smith\n",
    "Gabby Hartnett\n",
    "Tex Rickard\n",
    "Joseph Sabath\n",
    "Calvin Coolidge\n",
    "Helen Hayes\n",
    "Charlie Chaplin\n",
    "Edward Barry\n",
    "Mark Twain\n",
    "William Green\n",
    "Al Jolson\n",
    "Gloria Swanson\n",
    "Frank Parker\n",
    "Bing Crosby\n",
    "Jane Addams\n",
    "Will Rogers\n",
    "Elmer Douglass\n",
    "Bob Elson\n",
    "Al Simmons\n",
    "William J.\n",
    "Rudy Vallee\n",
    "Claudette Colbert\n",
    "John Powell\n",
    "Joe Davis\n",
    "James Simpson\n",
    "Harold L. Ickes\n",
    "Herman N. Bundesen\n",
    "John Barrymore\n",
    "Huey Long\n",
    "Lou Gehrig\n",
    "Walter Hagen\n",
    "Dizzy Dean\n",
    "Jack Benny\n",
    "Jacob Baur\n",
    "Paul Whiteman\n",
    "Janet Gaynor\n",
    "George Vi\n",
    "Bette Davis\n",
    "Tommy Armour\n",
    "Harold Lloyd\n",
    "Myrna Loy\n",
    "Connie Mack\n",
    "Max Schmeling\n",
    "James A. Farley\n",
    "Ely Culbertson\n",
    "George White\n",
    "Bill Terry\n",
    "James Hamilton Lewis\n",
    "Joe E. Brown\n",
    "Jack Sharkey\n",
    "Harold Stokes\n",
    "Julius Rosenwald\n",
    "Elmer Layden\n",
    "Anthony Eden\n",
    "Michael L. Igoe\n",
    "John P. Barnes\n",
    "Cordell Hull\n",
    "Jack Holt\n",
    "Leonard Wood\n",
    "John Marshall\n",
    "Robert J. Dunham\n",
    "Ted Weems\n",
    "Kay Francis\n",
    "William E. Borah\n",
    "Joe Mccarthy\n",
    "Ann Harding\n",
    "Henry A. Miller\n",
    "John Thompson\n",
    "Walter Dill Scott\n",
    "Lionel Barrymore\n",
    "Ben Bernie\n",
    "Neville Chamberlain\n",
    "Abel Davis\n",
    "J. Smith\n",
    "Bill Lee\n",
    "John Simon\n",
    "John A.\n",
    "George Craig Stewart\n",
    "Robert E. Crowe\n",
    "Spencer Tracy\n",
    "Joan Blondell\n",
    "Eddie Collins\n",
    "Irene Dunne\n",
    "John Alden Carpenter\n",
    "Francisco Franco\n",
    "Jean Harlow\n",
    "Jim Londos\n",
    "William Powell\n",
    "Loretta Young\n",
    "Dick Powell\n",
    "Wallace Beery\n",
    "Hugh S. Johnson\n",
    "Frank J. Loesch\n",
    "Rufus C. Dawes\n",
    "Walter Johnson\n",
    "D. F. Kelly\n",
    "Anton J. Cermak\n",
    "Charles S. Deneen\n",
    "Marion Davies\n",
    "Pat O'Brien\n",
    "John Timothy Stone\n",
    "Jack Kearns\n",
    "Frank L. Smith\n",
    "Harry L. Hopkins\n",
    "Ronald Colman\n",
    "Jackie Coogan\n",
    "Mickey Walker\n",
    "Haile Selassie\n",
    "J. Ogden Armour\n",
    "Bud Taylor\n",
    "John W. Davis\n",
    "Douglas Fairbanks\n",
    "Joseph B. David\n",
    "Oscar Nelson\n",
    "Lon Warneke\n",
    "C. Smith\n",
    "Constance Bennett\n",
    "Clayton F. Smith\n",
    "Earl Carroll\n",
    "Mary Garden\n",
    "Lynn Waldorf\n",
    "Cary Grant\n",
    "Joan Bennett\n",
    "John Dillinger\n",
    "Robert Taylor\n",
    "Cecil Smith\n",
    "Floyd Gibbons\n",
    "Chick Evans\n",
    "Frank Murphy\n",
    "Grace Moore\n",
    "Jimmy Dykes\n",
    "Fred Allen\n",
    "Sammy Mandell\n",
    "Dick Hanley\n",
    "Bebe Daniels\n",
    "Babe Herman\n",
    "Carole Lombard\n",
    "Jan Garber\n",
    "Edward Hines\n",
    "Chauncey Mccormick\n",
    "John J. Pershing\n",
    "John D. Rockefeller\n",
    "Norma Talmadge\n",
    "Conrad Nagel\n",
    "John L. Sullivan\n",
    "Philip J. Finnegan\n",
    "Alice Brady\n",
    "George M. Cohan\n",
    "Helen Jacobs\n",
    "John Smith\n",
    "Mike Jacobs\n",
    "Thomas Jefferson\n",
    "Frank Smith\n",
    "George Smith\n",
    "William Ii\n",
    "Charles Ii\n",
    "John Brown\n",
    "James A.\n",
    "Jesus Christ\n",
    "Jack Johnson\n",
    "Harry Wills\n",
    "A. Smith\n",
    "John Ii\n",
    "Andrew Jackson\n",
    "John Anderson\n",
    "George Williams\n",
    "Edward Johnson\n",
    "Jesse Owens\n",
    "James Ii\n",
    "L. Smith\n",
    "John Lewis'''"
   ]
  },
  {
   "cell_type": "code",
   "execution_count": 56,
   "metadata": {
    "collapsed": true
   },
   "outputs": [],
   "source": [
    "people = [x for x in people.split('\\n') if x]"
   ]
  },
  {
   "cell_type": "code",
   "execution_count": 57,
   "metadata": {},
   "outputs": [],
   "source": [
    "stars = list(zip(people, [META]*len(people), [TEMPLATE]*len(people))) # unnecessary but whatever"
   ]
  },
  {
   "cell_type": "code",
   "execution_count": 58,
   "metadata": {},
   "outputs": [
    {
     "name": "stderr",
     "output_type": "stream",
     "text": [
      "Process ForkPoolWorker-164:\n"
     ]
    },
    {
     "ename": "KeyboardInterrupt",
     "evalue": "",
     "output_type": "error",
     "traceback": [
      "\u001b[0;31m---------------------------------------------------------------------------\u001b[0m",
      "\u001b[0;31mKeyboardInterrupt\u001b[0m                         Traceback (most recent call last)",
      "\u001b[0;32m<ipython-input-58-b3b606ba3adb>\u001b[0m in \u001b[0;36m<module>\u001b[0;34m()\u001b[0m\n\u001b[1;32m      1\u001b[0m \u001b[0;32mwith\u001b[0m \u001b[0mPool\u001b[0m\u001b[0;34m(\u001b[0m\u001b[0;34m)\u001b[0m \u001b[0;32mas\u001b[0m \u001b[0mp\u001b[0m\u001b[0;34m:\u001b[0m\u001b[0;34m\u001b[0m\u001b[0m\n\u001b[0;32m----> 2\u001b[0;31m     \u001b[0mfns\u001b[0m \u001b[0;34m=\u001b[0m \u001b[0mp\u001b[0m\u001b[0;34m.\u001b[0m\u001b[0mmap\u001b[0m\u001b[0;34m(\u001b[0m\u001b[0mget_html_texts\u001b[0m\u001b[0;34m,\u001b[0m \u001b[0mstars\u001b[0m\u001b[0;34m)\u001b[0m\u001b[0;34m\u001b[0m\u001b[0m\n\u001b[0m",
      "\u001b[0;32m/share/software/user/open/python/3.6.1/lib/python3.6/multiprocessing/pool.py\u001b[0m in \u001b[0;36mmap\u001b[0;34m(self, func, iterable, chunksize)\u001b[0m\n\u001b[1;32m    259\u001b[0m         '''\n\u001b[0;32m--> 260\u001b[0;31m         \u001b[0;32mreturn\u001b[0m \u001b[0mself\u001b[0m\u001b[0;34m.\u001b[0m\u001b[0m_map_async\u001b[0m\u001b[0;34m(\u001b[0m\u001b[0mfunc\u001b[0m\u001b[0;34m,\u001b[0m \u001b[0miterable\u001b[0m\u001b[0;34m,\u001b[0m \u001b[0mmapstar\u001b[0m\u001b[0;34m,\u001b[0m \u001b[0mchunksize\u001b[0m\u001b[0;34m)\u001b[0m\u001b[0;34m.\u001b[0m\u001b[0mget\u001b[0m\u001b[0;34m(\u001b[0m\u001b[0;34m)\u001b[0m\u001b[0;34m\u001b[0m\u001b[0m\n\u001b[0m\u001b[1;32m    261\u001b[0m \u001b[0;34m\u001b[0m\u001b[0m\n",
      "\u001b[0;32m/share/software/user/open/python/3.6.1/lib/python3.6/multiprocessing/pool.py\u001b[0m in \u001b[0;36mget\u001b[0;34m(self, timeout)\u001b[0m\n\u001b[1;32m    601\u001b[0m     \u001b[0;32mdef\u001b[0m \u001b[0mget\u001b[0m\u001b[0;34m(\u001b[0m\u001b[0mself\u001b[0m\u001b[0;34m,\u001b[0m \u001b[0mtimeout\u001b[0m\u001b[0;34m=\u001b[0m\u001b[0;32mNone\u001b[0m\u001b[0;34m)\u001b[0m\u001b[0;34m:\u001b[0m\u001b[0;34m\u001b[0m\u001b[0m\n\u001b[0;32m--> 602\u001b[0;31m         \u001b[0mself\u001b[0m\u001b[0;34m.\u001b[0m\u001b[0mwait\u001b[0m\u001b[0;34m(\u001b[0m\u001b[0mtimeout\u001b[0m\u001b[0;34m)\u001b[0m\u001b[0;34m\u001b[0m\u001b[0m\n\u001b[0m\u001b[1;32m    603\u001b[0m         \u001b[0;32mif\u001b[0m \u001b[0;32mnot\u001b[0m \u001b[0mself\u001b[0m\u001b[0;34m.\u001b[0m\u001b[0mready\u001b[0m\u001b[0;34m(\u001b[0m\u001b[0;34m)\u001b[0m\u001b[0;34m:\u001b[0m\u001b[0;34m\u001b[0m\u001b[0m\n",
      "\u001b[0;32m/share/software/user/open/python/3.6.1/lib/python3.6/multiprocessing/pool.py\u001b[0m in \u001b[0;36mwait\u001b[0;34m(self, timeout)\u001b[0m\n\u001b[1;32m    598\u001b[0m     \u001b[0;32mdef\u001b[0m \u001b[0mwait\u001b[0m\u001b[0;34m(\u001b[0m\u001b[0mself\u001b[0m\u001b[0;34m,\u001b[0m \u001b[0mtimeout\u001b[0m\u001b[0;34m=\u001b[0m\u001b[0;32mNone\u001b[0m\u001b[0;34m)\u001b[0m\u001b[0;34m:\u001b[0m\u001b[0;34m\u001b[0m\u001b[0m\n\u001b[0;32m--> 599\u001b[0;31m         \u001b[0mself\u001b[0m\u001b[0;34m.\u001b[0m\u001b[0m_event\u001b[0m\u001b[0;34m.\u001b[0m\u001b[0mwait\u001b[0m\u001b[0;34m(\u001b[0m\u001b[0mtimeout\u001b[0m\u001b[0;34m)\u001b[0m\u001b[0;34m\u001b[0m\u001b[0m\n\u001b[0m\u001b[1;32m    600\u001b[0m \u001b[0;34m\u001b[0m\u001b[0m\n",
      "\u001b[0;32m/share/software/user/open/python/3.6.1/lib/python3.6/threading.py\u001b[0m in \u001b[0;36mwait\u001b[0;34m(self, timeout)\u001b[0m\n\u001b[1;32m    550\u001b[0m             \u001b[0;32mif\u001b[0m \u001b[0;32mnot\u001b[0m \u001b[0msignaled\u001b[0m\u001b[0;34m:\u001b[0m\u001b[0;34m\u001b[0m\u001b[0m\n\u001b[0;32m--> 551\u001b[0;31m                 \u001b[0msignaled\u001b[0m \u001b[0;34m=\u001b[0m \u001b[0mself\u001b[0m\u001b[0;34m.\u001b[0m\u001b[0m_cond\u001b[0m\u001b[0;34m.\u001b[0m\u001b[0mwait\u001b[0m\u001b[0;34m(\u001b[0m\u001b[0mtimeout\u001b[0m\u001b[0;34m)\u001b[0m\u001b[0;34m\u001b[0m\u001b[0m\n\u001b[0m\u001b[1;32m    552\u001b[0m             \u001b[0;32mreturn\u001b[0m \u001b[0msignaled\u001b[0m\u001b[0;34m\u001b[0m\u001b[0m\n",
      "\u001b[0;32m/share/software/user/open/python/3.6.1/lib/python3.6/threading.py\u001b[0m in \u001b[0;36mwait\u001b[0;34m(self, timeout)\u001b[0m\n\u001b[1;32m    294\u001b[0m             \u001b[0;32mif\u001b[0m \u001b[0mtimeout\u001b[0m \u001b[0;32mis\u001b[0m \u001b[0;32mNone\u001b[0m\u001b[0;34m:\u001b[0m\u001b[0;34m\u001b[0m\u001b[0m\n\u001b[0;32m--> 295\u001b[0;31m                 \u001b[0mwaiter\u001b[0m\u001b[0;34m.\u001b[0m\u001b[0macquire\u001b[0m\u001b[0;34m(\u001b[0m\u001b[0;34m)\u001b[0m\u001b[0;34m\u001b[0m\u001b[0m\n\u001b[0m\u001b[1;32m    296\u001b[0m                 \u001b[0mgotit\u001b[0m \u001b[0;34m=\u001b[0m \u001b[0;32mTrue\u001b[0m\u001b[0;34m\u001b[0m\u001b[0m\n",
      "\u001b[0;31mKeyboardInterrupt\u001b[0m: ",
      "\nDuring handling of the above exception, another exception occurred:\n",
      "\u001b[0;31mKeyboardInterrupt\u001b[0m                         Traceback (most recent call last)",
      "\u001b[0;32m<ipython-input-58-b3b606ba3adb>\u001b[0m in \u001b[0;36m<module>\u001b[0;34m()\u001b[0m\n\u001b[1;32m      1\u001b[0m \u001b[0;32mwith\u001b[0m \u001b[0mPool\u001b[0m\u001b[0;34m(\u001b[0m\u001b[0;34m)\u001b[0m \u001b[0;32mas\u001b[0m \u001b[0mp\u001b[0m\u001b[0;34m:\u001b[0m\u001b[0;34m\u001b[0m\u001b[0m\n\u001b[0;32m----> 2\u001b[0;31m     \u001b[0mfns\u001b[0m \u001b[0;34m=\u001b[0m \u001b[0mp\u001b[0m\u001b[0;34m.\u001b[0m\u001b[0mmap\u001b[0m\u001b[0;34m(\u001b[0m\u001b[0mget_html_texts\u001b[0m\u001b[0;34m,\u001b[0m \u001b[0mstars\u001b[0m\u001b[0;34m)\u001b[0m\u001b[0;34m\u001b[0m\u001b[0m\n\u001b[0m",
      "\u001b[0;32m/share/software/user/open/python/3.6.1/lib/python3.6/multiprocessing/pool.py\u001b[0m in \u001b[0;36m__exit__\u001b[0;34m(self, exc_type, exc_val, exc_tb)\u001b[0m\n\u001b[1;32m    573\u001b[0m \u001b[0;34m\u001b[0m\u001b[0m\n\u001b[1;32m    574\u001b[0m     \u001b[0;32mdef\u001b[0m \u001b[0m__exit__\u001b[0m\u001b[0;34m(\u001b[0m\u001b[0mself\u001b[0m\u001b[0;34m,\u001b[0m \u001b[0mexc_type\u001b[0m\u001b[0;34m,\u001b[0m \u001b[0mexc_val\u001b[0m\u001b[0;34m,\u001b[0m \u001b[0mexc_tb\u001b[0m\u001b[0;34m)\u001b[0m\u001b[0;34m:\u001b[0m\u001b[0;34m\u001b[0m\u001b[0m\n\u001b[0;32m--> 575\u001b[0;31m         \u001b[0mself\u001b[0m\u001b[0;34m.\u001b[0m\u001b[0mterminate\u001b[0m\u001b[0;34m(\u001b[0m\u001b[0;34m)\u001b[0m\u001b[0;34m\u001b[0m\u001b[0m\n\u001b[0m\u001b[1;32m    576\u001b[0m \u001b[0;34m\u001b[0m\u001b[0m\n\u001b[1;32m    577\u001b[0m \u001b[0;31m#\u001b[0m\u001b[0;34m\u001b[0m\u001b[0;34m\u001b[0m\u001b[0m\n",
      "\u001b[0;32m/share/software/user/open/python/3.6.1/lib/python3.6/multiprocessing/pool.py\u001b[0m in \u001b[0;36mterminate\u001b[0;34m(self)\u001b[0m\n\u001b[1;32m    503\u001b[0m         \u001b[0mself\u001b[0m\u001b[0;34m.\u001b[0m\u001b[0m_state\u001b[0m \u001b[0;34m=\u001b[0m \u001b[0mTERMINATE\u001b[0m\u001b[0;34m\u001b[0m\u001b[0m\n\u001b[1;32m    504\u001b[0m         \u001b[0mself\u001b[0m\u001b[0;34m.\u001b[0m\u001b[0m_worker_handler\u001b[0m\u001b[0;34m.\u001b[0m\u001b[0m_state\u001b[0m \u001b[0;34m=\u001b[0m \u001b[0mTERMINATE\u001b[0m\u001b[0;34m\u001b[0m\u001b[0m\n\u001b[0;32m--> 505\u001b[0;31m         \u001b[0mself\u001b[0m\u001b[0;34m.\u001b[0m\u001b[0m_terminate\u001b[0m\u001b[0;34m(\u001b[0m\u001b[0;34m)\u001b[0m\u001b[0;34m\u001b[0m\u001b[0m\n\u001b[0m\u001b[1;32m    506\u001b[0m \u001b[0;34m\u001b[0m\u001b[0m\n\u001b[1;32m    507\u001b[0m     \u001b[0;32mdef\u001b[0m \u001b[0mjoin\u001b[0m\u001b[0;34m(\u001b[0m\u001b[0mself\u001b[0m\u001b[0;34m)\u001b[0m\u001b[0;34m:\u001b[0m\u001b[0;34m\u001b[0m\u001b[0m\n",
      "\u001b[0;32m/share/software/user/open/python/3.6.1/lib/python3.6/multiprocessing/util.py\u001b[0m in \u001b[0;36m__call__\u001b[0;34m(self, wr, _finalizer_registry, sub_debug, getpid)\u001b[0m\n\u001b[1;32m    184\u001b[0m                 sub_debug('finalizer calling %s with args %s and kwargs %s',\n\u001b[1;32m    185\u001b[0m                           self._callback, self._args, self._kwargs)\n\u001b[0;32m--> 186\u001b[0;31m                 \u001b[0mres\u001b[0m \u001b[0;34m=\u001b[0m \u001b[0mself\u001b[0m\u001b[0;34m.\u001b[0m\u001b[0m_callback\u001b[0m\u001b[0;34m(\u001b[0m\u001b[0;34m*\u001b[0m\u001b[0mself\u001b[0m\u001b[0;34m.\u001b[0m\u001b[0m_args\u001b[0m\u001b[0;34m,\u001b[0m \u001b[0;34m**\u001b[0m\u001b[0mself\u001b[0m\u001b[0;34m.\u001b[0m\u001b[0m_kwargs\u001b[0m\u001b[0;34m)\u001b[0m\u001b[0;34m\u001b[0m\u001b[0m\n\u001b[0m\u001b[1;32m    187\u001b[0m             \u001b[0mself\u001b[0m\u001b[0;34m.\u001b[0m\u001b[0m_weakref\u001b[0m \u001b[0;34m=\u001b[0m \u001b[0mself\u001b[0m\u001b[0;34m.\u001b[0m\u001b[0m_callback\u001b[0m \u001b[0;34m=\u001b[0m \u001b[0mself\u001b[0m\u001b[0;34m.\u001b[0m\u001b[0m_args\u001b[0m \u001b[0;34m=\u001b[0m\u001b[0;31m \u001b[0m\u001b[0;31m\\\u001b[0m\u001b[0;34m\u001b[0m\u001b[0m\n\u001b[1;32m    188\u001b[0m                             \u001b[0mself\u001b[0m\u001b[0;34m.\u001b[0m\u001b[0m_kwargs\u001b[0m \u001b[0;34m=\u001b[0m \u001b[0mself\u001b[0m\u001b[0;34m.\u001b[0m\u001b[0m_key\u001b[0m \u001b[0;34m=\u001b[0m \u001b[0;32mNone\u001b[0m\u001b[0;34m\u001b[0m\u001b[0m\n",
      "\u001b[0;32m/share/software/user/open/python/3.6.1/lib/python3.6/multiprocessing/pool.py\u001b[0m in \u001b[0;36m_terminate_pool\u001b[0;34m(cls, taskqueue, inqueue, outqueue, pool, worker_handler, task_handler, result_handler, cache)\u001b[0m\n\u001b[1;32m    567\u001b[0m                     \u001b[0;31m# worker has not yet exited\u001b[0m\u001b[0;34m\u001b[0m\u001b[0;34m\u001b[0m\u001b[0m\n\u001b[1;32m    568\u001b[0m                     \u001b[0mutil\u001b[0m\u001b[0;34m.\u001b[0m\u001b[0mdebug\u001b[0m\u001b[0;34m(\u001b[0m\u001b[0;34m'cleaning up worker %d'\u001b[0m \u001b[0;34m%\u001b[0m \u001b[0mp\u001b[0m\u001b[0;34m.\u001b[0m\u001b[0mpid\u001b[0m\u001b[0;34m)\u001b[0m\u001b[0;34m\u001b[0m\u001b[0m\n\u001b[0;32m--> 569\u001b[0;31m                     \u001b[0mp\u001b[0m\u001b[0;34m.\u001b[0m\u001b[0mjoin\u001b[0m\u001b[0;34m(\u001b[0m\u001b[0;34m)\u001b[0m\u001b[0;34m\u001b[0m\u001b[0m\n\u001b[0m\u001b[1;32m    570\u001b[0m \u001b[0;34m\u001b[0m\u001b[0m\n\u001b[1;32m    571\u001b[0m     \u001b[0;32mdef\u001b[0m \u001b[0m__enter__\u001b[0m\u001b[0;34m(\u001b[0m\u001b[0mself\u001b[0m\u001b[0;34m)\u001b[0m\u001b[0;34m:\u001b[0m\u001b[0;34m\u001b[0m\u001b[0m\n",
      "\u001b[0;32m/share/software/user/open/python/3.6.1/lib/python3.6/multiprocessing/process.py\u001b[0m in \u001b[0;36mjoin\u001b[0;34m(self, timeout)\u001b[0m\n\u001b[1;32m    119\u001b[0m         \u001b[0;32massert\u001b[0m \u001b[0mself\u001b[0m\u001b[0;34m.\u001b[0m\u001b[0m_parent_pid\u001b[0m \u001b[0;34m==\u001b[0m \u001b[0mos\u001b[0m\u001b[0;34m.\u001b[0m\u001b[0mgetpid\u001b[0m\u001b[0;34m(\u001b[0m\u001b[0;34m)\u001b[0m\u001b[0;34m,\u001b[0m \u001b[0;34m'can only join a child process'\u001b[0m\u001b[0;34m\u001b[0m\u001b[0m\n\u001b[1;32m    120\u001b[0m         \u001b[0;32massert\u001b[0m \u001b[0mself\u001b[0m\u001b[0;34m.\u001b[0m\u001b[0m_popen\u001b[0m \u001b[0;32mis\u001b[0m \u001b[0;32mnot\u001b[0m \u001b[0;32mNone\u001b[0m\u001b[0;34m,\u001b[0m \u001b[0;34m'can only join a started process'\u001b[0m\u001b[0;34m\u001b[0m\u001b[0m\n\u001b[0;32m--> 121\u001b[0;31m         \u001b[0mres\u001b[0m \u001b[0;34m=\u001b[0m \u001b[0mself\u001b[0m\u001b[0;34m.\u001b[0m\u001b[0m_popen\u001b[0m\u001b[0;34m.\u001b[0m\u001b[0mwait\u001b[0m\u001b[0;34m(\u001b[0m\u001b[0mtimeout\u001b[0m\u001b[0;34m)\u001b[0m\u001b[0;34m\u001b[0m\u001b[0m\n\u001b[0m\u001b[1;32m    122\u001b[0m         \u001b[0;32mif\u001b[0m \u001b[0mres\u001b[0m \u001b[0;32mis\u001b[0m \u001b[0;32mnot\u001b[0m \u001b[0;32mNone\u001b[0m\u001b[0;34m:\u001b[0m\u001b[0;34m\u001b[0m\u001b[0m\n\u001b[1;32m    123\u001b[0m             \u001b[0m_children\u001b[0m\u001b[0;34m.\u001b[0m\u001b[0mdiscard\u001b[0m\u001b[0;34m(\u001b[0m\u001b[0mself\u001b[0m\u001b[0;34m)\u001b[0m\u001b[0;34m\u001b[0m\u001b[0m\n",
      "\u001b[0;32m/share/software/user/open/python/3.6.1/lib/python3.6/multiprocessing/popen_fork.py\u001b[0m in \u001b[0;36mwait\u001b[0;34m(self, timeout)\u001b[0m\n\u001b[1;32m     49\u001b[0m                     \u001b[0;32mreturn\u001b[0m \u001b[0;32mNone\u001b[0m\u001b[0;34m\u001b[0m\u001b[0m\n\u001b[1;32m     50\u001b[0m             \u001b[0;31m# This shouldn't block if wait() returned successfully.\u001b[0m\u001b[0;34m\u001b[0m\u001b[0;34m\u001b[0m\u001b[0m\n\u001b[0;32m---> 51\u001b[0;31m             \u001b[0;32mreturn\u001b[0m \u001b[0mself\u001b[0m\u001b[0;34m.\u001b[0m\u001b[0mpoll\u001b[0m\u001b[0;34m(\u001b[0m\u001b[0mos\u001b[0m\u001b[0;34m.\u001b[0m\u001b[0mWNOHANG\u001b[0m \u001b[0;32mif\u001b[0m \u001b[0mtimeout\u001b[0m \u001b[0;34m==\u001b[0m \u001b[0;36m0.0\u001b[0m \u001b[0;32melse\u001b[0m \u001b[0;36m0\u001b[0m\u001b[0;34m)\u001b[0m\u001b[0;34m\u001b[0m\u001b[0m\n\u001b[0m\u001b[1;32m     52\u001b[0m         \u001b[0;32mreturn\u001b[0m \u001b[0mself\u001b[0m\u001b[0;34m.\u001b[0m\u001b[0mreturncode\u001b[0m\u001b[0;34m\u001b[0m\u001b[0m\n\u001b[1;32m     53\u001b[0m \u001b[0;34m\u001b[0m\u001b[0m\n",
      "\u001b[0;32m/share/software/user/open/python/3.6.1/lib/python3.6/multiprocessing/popen_fork.py\u001b[0m in \u001b[0;36mpoll\u001b[0;34m(self, flag)\u001b[0m\n\u001b[1;32m     27\u001b[0m             \u001b[0;32mwhile\u001b[0m \u001b[0;32mTrue\u001b[0m\u001b[0;34m:\u001b[0m\u001b[0;34m\u001b[0m\u001b[0m\n\u001b[1;32m     28\u001b[0m                 \u001b[0;32mtry\u001b[0m\u001b[0;34m:\u001b[0m\u001b[0;34m\u001b[0m\u001b[0m\n\u001b[0;32m---> 29\u001b[0;31m                     \u001b[0mpid\u001b[0m\u001b[0;34m,\u001b[0m \u001b[0msts\u001b[0m \u001b[0;34m=\u001b[0m \u001b[0mos\u001b[0m\u001b[0;34m.\u001b[0m\u001b[0mwaitpid\u001b[0m\u001b[0;34m(\u001b[0m\u001b[0mself\u001b[0m\u001b[0;34m.\u001b[0m\u001b[0mpid\u001b[0m\u001b[0;34m,\u001b[0m \u001b[0mflag\u001b[0m\u001b[0;34m)\u001b[0m\u001b[0;34m\u001b[0m\u001b[0m\n\u001b[0m\u001b[1;32m     30\u001b[0m                 \u001b[0;32mexcept\u001b[0m \u001b[0mOSError\u001b[0m \u001b[0;32mas\u001b[0m \u001b[0me\u001b[0m\u001b[0;34m:\u001b[0m\u001b[0;34m\u001b[0m\u001b[0m\n\u001b[1;32m     31\u001b[0m                     \u001b[0;31m# Child process not yet created. See #1731717\u001b[0m\u001b[0;34m\u001b[0m\u001b[0;34m\u001b[0m\u001b[0m\n",
      "\u001b[0;31mKeyboardInterrupt\u001b[0m: "
     ]
    }
   ],
   "source": [
    "with Pool() as p:\n",
    "    fns = p.map(get_html_texts, stars)"
   ]
  },
  {
   "cell_type": "markdown",
   "metadata": {},
   "source": [
    "# Linear process: old code"
   ]
  },
  {
   "cell_type": "code",
   "execution_count": 38,
   "metadata": {
    "collapsed": true
   },
   "outputs": [],
   "source": [
    "def make_stars(META, name):\n",
    "    return list(zip(META, [name] * len(META)))"
   ]
  },
  {
   "cell_type": "code",
   "execution_count": 39,
   "metadata": {
    "collapsed": true
   },
   "outputs": [],
   "source": [
    "def filter_meta(file, name):\n",
    "    with open(file) as f:\n",
    "        for line in f:\n",
    "            if name in line:\n",
    "                return file"
   ]
  },
  {
   "cell_type": "code",
   "execution_count": 40,
   "metadata": {
    "collapsed": true
   },
   "outputs": [],
   "source": [
    "def filter_metas(stars):\n",
    "    start = time.time()\n",
    "    \n",
    "    with Pool() as p:\n",
    "        out = p.starmap(filter_meta, stars)\n",
    "        \n",
    "    print('\\r{} seconds to filter {}'.format(round(time.time() - start), stars[0][1]))\n",
    "    return [x for x in out if x]"
   ]
  },
  {
   "cell_type": "code",
   "execution_count": 46,
   "metadata": {
    "collapsed": true
   },
   "outputs": [],
   "source": [
    "def get_html_texts(META, name, TEMPLATE):\n",
    "    stars = make_stars(META, name)\n",
    "    csvs = filter_metas(stars)\n",
    "    id_num = 0\n",
    "    headers = ''\n",
    "    bullets = ''\n",
    "    \n",
    "    for i, csv in enumerate(csvs):\n",
    "        print('\\rcsv #{} of {}'.format(i + 1, len(csvs)), end = '')\n",
    "        subset, paths = get_xml_paths(csv, name)\n",
    "        for i, path in enumerate(paths):\n",
    "            p = make_p(path, name)\n",
    "            header, bullet = make_header_bullet(path, subset, id_num, p)\n",
    "            id_num += 1\n",
    "            headers += '\\n' + header\n",
    "            bullets += '\\n' + bullet\n",
    "            pct = round((i/len(paths)) * 100)\n",
    "            if pct % 10 == 0:\n",
    "                print('\\r{}% of paths complete'.format(pct), end = '')\n",
    "    \n",
    "    html = customize_template(TEMPLATE, name, headers, bullets)\n",
    "    fn = name.lower().strip().split(' ')\n",
    "    fn = '_'.join(fn) + '.html'\n",
    "    fn = os.path.join('/oak/stanford/groups/malgeehe/celebs/chicago_results/names_html', fn)\n",
    "    \n",
    "    with open(fn, 'w') as f:\n",
    "        f.write(html)\n",
    "        f.close()\n",
    "        \n",
    "    return fn"
   ]
  }
 ],
 "metadata": {
  "kernelspec": {
   "display_name": "Python 3",
   "language": "python",
   "name": "python3"
  },
  "language_info": {
   "codemirror_mode": {
    "name": "ipython",
    "version": 3
   },
   "file_extension": ".py",
   "mimetype": "text/x-python",
   "name": "python",
   "nbconvert_exporter": "python",
   "pygments_lexer": "ipython3",
   "version": "3.6.1"
  }
 },
 "nbformat": 4,
 "nbformat_minor": 2
}
