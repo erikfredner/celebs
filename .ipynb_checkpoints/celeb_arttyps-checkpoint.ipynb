{
 "cells": [
  {
   "cell_type": "markdown",
   "metadata": {},
   "source": [
    "For the top `n` people in both papers, get data about the distribution of article types in which they appear.\n",
    "\n",
    "- Get lists of top n people per paper\n",
    "- Merge and dedupe those\n",
    "- Use resulting list to filter the annualized data\n",
    "- Merge all of the relevant rows into a new data frame\n",
    "- Merge with the metadata\n",
    "- Groupby name (and year?) and count article type"
   ]
  },
  {
   "cell_type": "code",
   "execution_count": null,
   "metadata": {
    "collapsed": true
   },
   "outputs": [],
   "source": []
  }
 ],
 "metadata": {
  "kernelspec": {
   "display_name": "Python 3",
   "language": "python",
   "name": "python3"
  },
  "language_info": {
   "codemirror_mode": {
    "name": "ipython",
    "version": 3
   },
   "file_extension": ".py",
   "mimetype": "text/x-python",
   "name": "python",
   "nbconvert_exporter": "python",
   "pygments_lexer": "ipython3",
   "version": "3.6.1"
  }
 },
 "nbformat": 4,
 "nbformat_minor": 2
}
