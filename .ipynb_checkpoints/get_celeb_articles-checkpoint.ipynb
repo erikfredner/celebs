{
 "cells": [
  {
   "cell_type": "markdown",
   "metadata": {},
   "source": [
    "For any given celeb name, extract the text of all of their articles, and append them to a `.txt` file based on the name.\n",
    "\n",
    "Reconstruct this from XML, or use the original txt files? Probably faster to use txt"
   ]
  },
  {
   "cell_type": "code",
   "execution_count": 1,
   "metadata": {
    "collapsed": true
   },
   "outputs": [],
   "source": [
    "sample_names = '''Antoinette Donnelly\n",
    "Sally Joy Brown\n",
    "Winnie Winkle\n",
    "Glen Ellyn\n",
    "Jack Dempsey\n",
    "John Steele\n",
    "Lloyd George\n",
    "Walter Eckersall\n",
    "Al Smith\n",
    "Edward Moore\n",
    "Arthur Evans\n",
    "Joe Louis\n",
    "George Washington\n",
    "Abraham Lincoln'''"
   ]
  },
  {
   "cell_type": "code",
   "execution_count": 2,
   "metadata": {
    "collapsed": true
   },
   "outputs": [],
   "source": [
    "sample_names = sample_names.split('\\n')"
   ]
  },
  {
   "cell_type": "code",
   "execution_count": null,
   "metadata": {
    "collapsed": true
   },
   "outputs": [],
   "source": []
  }
 ],
 "metadata": {
  "kernelspec": {
   "display_name": "Python 3",
   "language": "python",
   "name": "python3"
  },
  "language_info": {
   "codemirror_mode": {
    "name": "ipython",
    "version": 3
   },
   "file_extension": ".py",
   "mimetype": "text/x-python",
   "name": "python",
   "nbconvert_exporter": "python",
   "pygments_lexer": "ipython3",
   "version": "3.6.1"
  }
 },
 "nbformat": 4,
 "nbformat_minor": 2
}
