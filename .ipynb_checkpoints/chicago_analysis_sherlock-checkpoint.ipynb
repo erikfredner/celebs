{
 "cells": [
  {
   "cell_type": "code",
   "execution_count": 4,
   "metadata": {
    "collapsed": true
   },
   "outputs": [],
   "source": [
    "#!pip install lxml"
   ]
  },
  {
   "cell_type": "code",
   "execution_count": 16,
   "metadata": {
    "collapsed": true
   },
   "outputs": [],
   "source": [
    "# Functions\n",
    "import json\n",
    "import os\n",
    "from lxml import etree\n",
    "import random\n",
    "from multiprocessing import Pool"
   ]
  },
  {
   "cell_type": "code",
   "execution_count": 6,
   "metadata": {
    "collapsed": true
   },
   "outputs": [],
   "source": [
    "samples = '/scratch/groups/malgeehe/celebs/chicago_corenlp_results'"
   ]
  },
  {
   "cell_type": "code",
   "execution_count": 7,
   "metadata": {
    "collapsed": true
   },
   "outputs": [],
   "source": [
    "def get_files(path):\n",
    "    return [os.path.join(samples,x) for x in os.listdir(path) if x.endswith('.xml')]"
   ]
  },
  {
   "cell_type": "code",
   "execution_count": 8,
   "metadata": {
    "collapsed": true
   },
   "outputs": [],
   "source": [
    "filelist = get_files(samples)"
   ]
  },
  {
   "cell_type": "code",
   "execution_count": 9,
   "metadata": {},
   "outputs": [
    {
     "data": {
      "text/plain": [
       "3295238"
      ]
     },
     "execution_count": 9,
     "metadata": {},
     "output_type": "execute_result"
    }
   ],
   "source": [
    "len(filelist)"
   ]
  },
  {
   "cell_type": "code",
   "execution_count": 10,
   "metadata": {},
   "outputs": [
    {
     "data": {
      "text/plain": [
       "['/scratch/groups/malgeehe/celebs/chicago_corenlp_results/CD_20151209220449_00004_493218725.txt.xml',\n",
       " '/scratch/groups/malgeehe/celebs/chicago_corenlp_results/CD_20151209222114_00010_492531882.txt.xml',\n",
       " '/scratch/groups/malgeehe/celebs/chicago_corenlp_results/CT_20170330224509_00016_174727898.txt.xml']"
      ]
     },
     "execution_count": 10,
     "metadata": {},
     "output_type": "execute_result"
    }
   ],
   "source": [
    "filelist[:3]"
   ]
  },
  {
   "cell_type": "code",
   "execution_count": 36,
   "metadata": {
    "collapsed": true
   },
   "outputs": [],
   "source": [
    "def check_file(file):\n",
    "    l = []\n",
    "    with open(file,'r') as f:\n",
    "        if '<NER>PERSON</NER>' in f.read():\n",
    "            with open('/home/users/fredner/workspace/files_with_people.txt','a+') as f:\n",
    "                f.write(file)\n",
    "                f.write('\\n')\n",
    "                f.close()\n",
    "            return file"
   ]
  },
  {
   "cell_type": "code",
   "execution_count": 37,
   "metadata": {
    "collapsed": true
   },
   "outputs": [],
   "source": [
    "def check_files(filelist):\n",
    "    with Pool() as p:\n",
    "        l = p.map(check_file,filelist)\n",
    "        l = [x for x in l if x] # get rid of Nones\n",
    "    print('{} of {} files have people'.format(len(l), len(filelist)))\n",
    "    return l"
   ]
  },
  {
   "cell_type": "code",
   "execution_count": null,
   "metadata": {
    "collapsed": true
   },
   "outputs": [],
   "source": [
    "test = check_files(filelist)"
   ]
  },
  {
   "cell_type": "markdown",
   "metadata": {},
   "source": [
    "Should take less than two hours to determine which files have people in them."
   ]
  },
  {
   "cell_type": "code",
   "execution_count": 1,
   "metadata": {
    "collapsed": true
   },
   "outputs": [],
   "source": [
    "filelist_txt = '/home/users/fredner/workspace/files_with_people.txt'"
   ]
  },
  {
   "cell_type": "code",
   "execution_count": 2,
   "metadata": {
    "collapsed": true
   },
   "outputs": [],
   "source": [
    "with open(filelist_txt) as f:\n",
    "    files=[x for x in f.read().split('\\n') if x]"
   ]
  },
  {
   "cell_type": "code",
   "execution_count": 6,
   "metadata": {},
   "outputs": [
    {
     "data": {
      "text/plain": [
       "'/scratch/groups/malgeehe/celebs/chicago_corenlp_results/CD_20151209220449_00004_493218725.txt.xml'"
      ]
     },
     "execution_count": 6,
     "metadata": {},
     "output_type": "execute_result"
    }
   ],
   "source": [
    "files[0]"
   ]
  },
  {
   "cell_type": "code",
   "execution_count": 76,
   "metadata": {},
   "outputs": [
    {
     "data": {
      "text/plain": [
       "2785934"
      ]
     },
     "execution_count": 76,
     "metadata": {},
     "output_type": "execute_result"
    }
   ],
   "source": [
    "len(files)"
   ]
  },
  {
   "cell_type": "code",
   "execution_count": 77,
   "metadata": {},
   "outputs": [
    {
     "data": {
      "text/plain": [
       "'/scratch/groups/malgeehe/celebs/chicago_people/filelists'"
      ]
     },
     "execution_count": 77,
     "metadata": {},
     "output_type": "execute_result"
    }
   ],
   "source": [
    "loc"
   ]
  },
  {
   "cell_type": "code",
   "execution_count": 78,
   "metadata": {
    "collapsed": true
   },
   "outputs": [],
   "source": [
    "# make the batches\n",
    "c = 0\n",
    "n = (len(files)//300)\n",
    "for x in range(0,len(files),n):\n",
    "    filename = os.path.join(loc,'group_{}.txt'.format(c))\n",
    "    with open(filename,'w') as f:\n",
    "        for y in files[x:x+n]:\n",
    "            f.write(y)\n",
    "            f.write('\\n')\n",
    "        f.close()\n",
    "        c += 1"
   ]
  },
  {
   "cell_type": "code",
   "execution_count": 58,
   "metadata": {
    "collapsed": true
   },
   "outputs": [],
   "source": [
    "def make_filelist(path):\n",
    "    with open(path) as f:\n",
    "        return [x for x in f.read().split('\\n') if x]"
   ]
  },
  {
   "cell_type": "code",
   "execution_count": 59,
   "metadata": {
    "collapsed": true
   },
   "outputs": [],
   "source": [
    "def get_people(file):\n",
    "    tree = etree.parse(file)\n",
    "    people = [x for x in tree.xpath(\"//NER\") if x.text == 'PERSON']\n",
    "    tokens = [x.getparent() for x in people]\n",
    "    l = []\n",
    "    prev_end = 0\n",
    "    name_id = 0\n",
    "    \n",
    "    for tok in tokens:\n",
    "        d = {}\n",
    "        data = [x.text for x in tok.getchildren()]\n",
    "        # TODO this is dumb surely there's a better way\n",
    "        d['word']=data[0]\n",
    "#        d['lemma']=data[1]\n",
    "        d['start']=data[2]\n",
    "        curr_start = data[2]\n",
    "        d['end']=data[3]\n",
    "        \n",
    "        # check if there is something in the XML that already provides for this\n",
    "        if (int(curr_start) - int(prev_end)) == 1:\n",
    "            d['adjacent'] = True\n",
    "            d['name_id'] = name_id\n",
    "            # go back to the previous dictionary in the list and assert True\n",
    "            if len(l) > 0: # skip zeroth case\n",
    "                l[-1]['adjacent'] = True\n",
    "                l[-1]['name_id'] = name_id\n",
    "        else:\n",
    "            d['adjacent'] = False\n",
    "            d['name_id'] = None\n",
    "        \n",
    "        if len(l) > 0 and l[-1]['adjacent'] == True and d['adjacent'] == False:\n",
    "            name_id += 1\n",
    "        \n",
    "        d['pos']=data[4]\n",
    "        d['ner']=data[5]\n",
    "        d['speaker']=data[6]\n",
    "        d['file'] = tok.base\n",
    "        prev_end = data[3]\n",
    "        l.append(d)\n",
    "    \n",
    "    return l"
   ]
  },
  {
   "cell_type": "code",
   "execution_count": 71,
   "metadata": {
    "collapsed": true
   },
   "outputs": [],
   "source": [
    "def pool_people(filelist,path):\n",
    "    with Pool() as p:\n",
    "        l = p.map(get_people,filelist)\n",
    "    data = [item for sublist in l for item in sublist] # flatten list\n",
    "    filename = os.path.split(path)[-1].split('.txt')[0] + '.json'\n",
    "    out = '/scratch/groups/malgeehe/celebs/chicago_people/json/'\n",
    "    fp = os.path.join(out,filename)\n",
    "    with open(fp,'w') as f:\n",
    "        f.write(json.dumps(data,indent=2))\n",
    "        f.close()\n",
    "    return fp"
   ]
  },
  {
   "cell_type": "code",
   "execution_count": 72,
   "metadata": {
    "collapsed": true
   },
   "outputs": [],
   "source": [
    "def get_people_xml(path):\n",
    "    '''Converts list of paths to xml files into json of people data'''\n",
    "    files = make_filelist(path)\n",
    "    output = pool_people(files,path)\n",
    "    print('written to {}'.format(output))\n",
    "    return"
   ]
  },
  {
   "cell_type": "code",
   "execution_count": 75,
   "metadata": {},
   "outputs": [
    {
     "data": {
      "text/plain": [
       "'/scratch/groups/malgeehe/celebs/chicago_people/filelists/group_300.txt'"
      ]
     },
     "execution_count": 75,
     "metadata": {},
     "output_type": "execute_result"
    }
   ],
   "source": [
    "tester"
   ]
  },
  {
   "cell_type": "code",
   "execution_count": 26,
   "metadata": {},
   "outputs": [
    {
     "name": "stdout",
     "output_type": "stream",
     "text": [
      "2.728537082672119\n"
     ]
    }
   ],
   "source": [
    "import time\n",
    "start = time.time()\n",
    "test = pool_people(files[:100])\n",
    "print(time.time()-start)"
   ]
  },
  {
   "cell_type": "code",
   "execution_count": 20,
   "metadata": {
    "collapsed": true
   },
   "outputs": [],
   "source": [
    "test = json.loads(open('/home/users/fredner/workspace/test.json').read())"
   ]
  },
  {
   "cell_type": "markdown",
   "metadata": {},
   "source": [
    "Ok if you write it such that you can call something at the command line like:\n",
    "`srun python3.6 pool_people /path/to/filelist.txt`\n",
    "You can use the same method as before by creating filelist batches.\n",
    "\n",
    "Also need to add a JSON-dump step to write the output somewhere."
   ]
  },
  {
   "cell_type": "code",
   "execution_count": 26,
   "metadata": {},
   "outputs": [
    {
     "data": {
      "text/plain": [
       "66.66666666666667"
      ]
     },
     "execution_count": 26,
     "metadata": {},
     "output_type": "execute_result"
    }
   ],
   "source": [
    "1000/15"
   ]
  },
  {
   "cell_type": "code",
   "execution_count": 28,
   "metadata": {},
   "outputs": [
    {
     "data": {
      "text/plain": [
       "29.03142931177446"
      ]
     },
     "execution_count": 28,
     "metadata": {},
     "output_type": "execute_result"
    }
   ],
   "source": [
    "(len(filelist)*0.85)/67/60/24"
   ]
  },
  {
   "cell_type": "markdown",
   "metadata": {},
   "source": [
    "As written it would take 29 days to process everything. Need to figure out how to pass this `pool_people` step up to sherlock."
   ]
  },
  {
   "cell_type": "code",
   "execution_count": 29,
   "metadata": {
    "collapsed": true
   },
   "outputs": [],
   "source": [
    "def make_dataframe(l):\n",
    "    df = pd.DataFrame(l).set_index('file')\n",
    "    print('{} names'.format(df.shape[0]))\n",
    "    return df"
   ]
  },
  {
   "cell_type": "code",
   "execution_count": 30,
   "metadata": {
    "collapsed": true
   },
   "outputs": [],
   "source": [
    "def people_wrapper(path):\n",
    "    files = get_files(path)\n",
    "    files = check_files(files)\n",
    "#    data = pool_people(files)\n",
    "    return make_dataframe(data)"
   ]
  }
 ],
 "metadata": {
  "kernelspec": {
   "display_name": "Python 3",
   "language": "python",
   "name": "python3"
  },
  "language_info": {
   "codemirror_mode": {
    "name": "ipython",
    "version": 3
   },
   "file_extension": ".py",
   "mimetype": "text/x-python",
   "name": "python",
   "nbconvert_exporter": "python",
   "pygments_lexer": "ipython3",
   "version": "3.6.1"
  }
 },
 "nbformat": 4,
 "nbformat_minor": 2
}
