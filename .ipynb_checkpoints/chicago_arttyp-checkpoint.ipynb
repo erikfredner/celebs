{
 "cells": [
  {
   "cell_type": "markdown",
   "metadata": {},
   "source": [
    "Getting the article type metadata from the Chicago papers to see what we have."
   ]
  },
  {
   "cell_type": "code",
   "execution_count": 1,
   "metadata": {
    "collapsed": true
   },
   "outputs": [],
   "source": [
    "import os\n",
    "import pandas as pd"
   ]
  },
  {
   "cell_type": "code",
   "execution_count": 2,
   "metadata": {
    "collapsed": true
   },
   "outputs": [],
   "source": [
    "DATA = '/oak/stanford/groups/malgeehe/celebs/chicago_results/chicago_1919-1939_meta.csv'"
   ]
  },
  {
   "cell_type": "code",
   "execution_count": 3,
   "metadata": {
    "collapsed": true
   },
   "outputs": [],
   "source": [
    "df = pd.read_csv(DATA)"
   ]
  },
  {
   "cell_type": "code",
   "execution_count": 4,
   "metadata": {},
   "outputs": [
    {
     "data": {
      "text/html": [
       "<div>\n",
       "<style scoped>\n",
       "    .dataframe tbody tr th:only-of-type {\n",
       "        vertical-align: middle;\n",
       "    }\n",
       "\n",
       "    .dataframe tbody tr th {\n",
       "        vertical-align: top;\n",
       "    }\n",
       "\n",
       "    .dataframe thead th {\n",
       "        text-align: right;\n",
       "    }\n",
       "</style>\n",
       "<table border=\"1\" class=\"dataframe\">\n",
       "  <thead>\n",
       "    <tr style=\"text-align: right;\">\n",
       "      <th></th>\n",
       "      <th>Unnamed: 0</th>\n",
       "      <th>abstract</th>\n",
       "      <th>numericpubdate</th>\n",
       "      <th>objecttype</th>\n",
       "      <th>publicationid</th>\n",
       "      <th>qualifier</th>\n",
       "      <th>recordid</th>\n",
       "      <th>recordtitle</th>\n",
       "      <th>startpage</th>\n",
       "      <th>title</th>\n",
       "      <th>n_valid_words</th>\n",
       "      <th>n_words</th>\n",
       "      <th>ocr_acc</th>\n",
       "      <th>year</th>\n",
       "      <th>fullpath</th>\n",
       "    </tr>\n",
       "  </thead>\n",
       "  <tbody>\n",
       "    <tr>\n",
       "      <th>0</th>\n",
       "      <td>0</td>\n",
       "      <td>...</td>\n",
       "      <td>19330301</td>\n",
       "      <td>Feature</td>\n",
       "      <td>46851</td>\n",
       "      <td>Chicago, Ill.</td>\n",
       "      <td>181362810</td>\n",
       "      <td>INVESTORS' GUIDE</td>\n",
       "      <td>24</td>\n",
       "      <td>Chicago Daily Tribune (1923-1963)</td>\n",
       "      <td>358</td>\n",
       "      <td>539</td>\n",
       "      <td>0.664193</td>\n",
       "      <td>1933</td>\n",
       "      <td>/Users/erik/Desktop/chicago_subcorpus/2/CT_201...</td>\n",
       "    </tr>\n",
       "    <tr>\n",
       "      <th>1</th>\n",
       "      <td>1</td>\n",
       "      <td>NaN</td>\n",
       "      <td>19330616</td>\n",
       "      <td>Front Page/Cover Story</td>\n",
       "      <td>46851</td>\n",
       "      <td>Chicago, Ill.</td>\n",
       "      <td>181395865</td>\n",
       "      <td>Child Dies in Convulsions After Attack of Asthma</td>\n",
       "      <td>1</td>\n",
       "      <td>Chicago Daily Tribune (1923-1963)</td>\n",
       "      <td>53</td>\n",
       "      <td>65</td>\n",
       "      <td>0.815385</td>\n",
       "      <td>1933</td>\n",
       "      <td>/Users/erik/Desktop/chicago_subcorpus/3/CT_201...</td>\n",
       "    </tr>\n",
       "    <tr>\n",
       "      <th>2</th>\n",
       "      <td>2</td>\n",
       "      <td>...</td>\n",
       "      <td>19330510</td>\n",
       "      <td>Feature</td>\n",
       "      <td>46851</td>\n",
       "      <td>Chicago, Ill.</td>\n",
       "      <td>181427460</td>\n",
       "      <td>A LINE O' TYPE 0R TWO</td>\n",
       "      <td>14</td>\n",
       "      <td>Chicago Daily Tribune (1923-1963)</td>\n",
       "      <td>821</td>\n",
       "      <td>918</td>\n",
       "      <td>0.894336</td>\n",
       "      <td>1933</td>\n",
       "      <td>/Users/erik/Desktop/chicago_subcorpus/1/CT_201...</td>\n",
       "    </tr>\n",
       "    <tr>\n",
       "      <th>3</th>\n",
       "      <td>3</td>\n",
       "      <td>...</td>\n",
       "      <td>19330519</td>\n",
       "      <td>Feature</td>\n",
       "      <td>46851</td>\n",
       "      <td>Chicago, Ill.</td>\n",
       "      <td>181402308</td>\n",
       "      <td>Music Contest Winners Give Award Recital</td>\n",
       "      <td>25</td>\n",
       "      <td>Chicago Daily Tribune (1923-1963)</td>\n",
       "      <td>311</td>\n",
       "      <td>337</td>\n",
       "      <td>0.922849</td>\n",
       "      <td>1933</td>\n",
       "      <td>/Users/erik/Desktop/chicago_subcorpus/3/CT_201...</td>\n",
       "    </tr>\n",
       "    <tr>\n",
       "      <th>4</th>\n",
       "      <td>4</td>\n",
       "      <td>NaN</td>\n",
       "      <td>19330724</td>\n",
       "      <td>Advertisement</td>\n",
       "      <td>46851</td>\n",
       "      <td>Chicago, Ill.</td>\n",
       "      <td>181413378</td>\n",
       "      <td>Display Ad 16 -- No Title</td>\n",
       "      <td>16</td>\n",
       "      <td>Chicago Daily Tribune (1923-1963)</td>\n",
       "      <td>243</td>\n",
       "      <td>299</td>\n",
       "      <td>0.812709</td>\n",
       "      <td>1933</td>\n",
       "      <td>/Users/erik/Desktop/chicago_subcorpus/3/CT_201...</td>\n",
       "    </tr>\n",
       "  </tbody>\n",
       "</table>\n",
       "</div>"
      ],
      "text/plain": [
       "   Unnamed: 0                                           abstract  \\\n",
       "0           0                                                ...   \n",
       "1           1                                                NaN   \n",
       "2           2                                                ...   \n",
       "3           3                                                ...   \n",
       "4           4                                                NaN   \n",
       "\n",
       "   numericpubdate              objecttype  publicationid      qualifier  \\\n",
       "0        19330301                 Feature          46851  Chicago, Ill.   \n",
       "1        19330616  Front Page/Cover Story          46851  Chicago, Ill.   \n",
       "2        19330510                 Feature          46851  Chicago, Ill.   \n",
       "3        19330519                 Feature          46851  Chicago, Ill.   \n",
       "4        19330724           Advertisement          46851  Chicago, Ill.   \n",
       "\n",
       "    recordid                                       recordtitle startpage  \\\n",
       "0  181362810                                  INVESTORS' GUIDE        24   \n",
       "1  181395865  Child Dies in Convulsions After Attack of Asthma         1   \n",
       "2  181427460                             A LINE O' TYPE 0R TWO        14   \n",
       "3  181402308          Music Contest Winners Give Award Recital        25   \n",
       "4  181413378                         Display Ad 16 -- No Title        16   \n",
       "\n",
       "                               title  n_valid_words  n_words   ocr_acc  year  \\\n",
       "0  Chicago Daily Tribune (1923-1963)            358      539  0.664193  1933   \n",
       "1  Chicago Daily Tribune (1923-1963)             53       65  0.815385  1933   \n",
       "2  Chicago Daily Tribune (1923-1963)            821      918  0.894336  1933   \n",
       "3  Chicago Daily Tribune (1923-1963)            311      337  0.922849  1933   \n",
       "4  Chicago Daily Tribune (1923-1963)            243      299  0.812709  1933   \n",
       "\n",
       "                                            fullpath  \n",
       "0  /Users/erik/Desktop/chicago_subcorpus/2/CT_201...  \n",
       "1  /Users/erik/Desktop/chicago_subcorpus/3/CT_201...  \n",
       "2  /Users/erik/Desktop/chicago_subcorpus/1/CT_201...  \n",
       "3  /Users/erik/Desktop/chicago_subcorpus/3/CT_201...  \n",
       "4  /Users/erik/Desktop/chicago_subcorpus/3/CT_201...  "
      ]
     },
     "execution_count": 4,
     "metadata": {},
     "output_type": "execute_result"
    }
   ],
   "source": [
    "df.head()"
   ]
  },
  {
   "cell_type": "markdown",
   "metadata": {},
   "source": [
    "Get counts of object type per paper. Then, type per paper per year."
   ]
  },
  {
   "cell_type": "code",
   "execution_count": 5,
   "metadata": {},
   "outputs": [
    {
     "data": {
      "text/plain": [
       "array(['Chicago Daily Tribune (1923-1963)',\n",
       "       'Chicago Daily Tribune (1872-1922)',\n",
       "       'The Chicago Defender (Big Weekend Edition) (1905-1966)',\n",
       "       'The Chicago Defender (National edition) (1921-1967)'],\n",
       "      dtype=object)"
      ]
     },
     "execution_count": 5,
     "metadata": {},
     "output_type": "execute_result"
    }
   ],
   "source": [
    " df['title'].unique()"
   ]
  },
  {
   "cell_type": "code",
   "execution_count": 8,
   "metadata": {
    "collapsed": true
   },
   "outputs": [],
   "source": [
    "g = df[['title','objecttype','year']].groupby(['title','objecttype']).count()"
   ]
  },
  {
   "cell_type": "code",
   "execution_count": 12,
   "metadata": {
    "collapsed": true
   },
   "outputs": [],
   "source": [
    "g.reset_index(inplace = True)"
   ]
  },
  {
   "cell_type": "code",
   "execution_count": 13,
   "metadata": {
    "collapsed": true
   },
   "outputs": [],
   "source": [
    "g.columns = ['paper','type','n_docs']"
   ]
  },
  {
   "cell_type": "code",
   "execution_count": 15,
   "metadata": {
    "collapsed": true
   },
   "outputs": [],
   "source": [
    "g.to_csv('/oak/stanford/groups/malgeehe/celebs/chicago_results/type_per_paper_ndocs.csv')"
   ]
  },
  {
   "cell_type": "code",
   "execution_count": 36,
   "metadata": {
    "collapsed": true
   },
   "outputs": [],
   "source": [
    "g = df[['title','objecttype','n_valid_words']].groupby(['title','objecttype']).sum()"
   ]
  },
  {
   "cell_type": "code",
   "execution_count": 37,
   "metadata": {
    "collapsed": true
   },
   "outputs": [],
   "source": [
    "g.reset_index(inplace = True)"
   ]
  },
  {
   "cell_type": "code",
   "execution_count": 42,
   "metadata": {
    "collapsed": true
   },
   "outputs": [],
   "source": [
    "# add a column with a normed paper name\n",
    "g['paper_normed'] = [x.split('(')[0].strip() for x in g['paper']]"
   ]
  },
  {
   "cell_type": "code",
   "execution_count": 45,
   "metadata": {
    "collapsed": true
   },
   "outputs": [],
   "source": [
    "g = g[['paper', 'paper_normed', 'type', 'n_words']].sort_values('n_words', ascending=False)"
   ]
  },
  {
   "cell_type": "code",
   "execution_count": 46,
   "metadata": {
    "collapsed": true
   },
   "outputs": [],
   "source": [
    "g.columns = ['paper', 'paper_normed', 'type', 'n_tokens']"
   ]
  },
  {
   "cell_type": "code",
   "execution_count": 47,
   "metadata": {
    "collapsed": true
   },
   "outputs": [],
   "source": [
    "g.to_csv('/oak/stanford/groups/malgeehe/celebs/chicago_results/type_per_paper_ntoks_sorted.csv')"
   ]
  },
  {
   "cell_type": "code",
   "execution_count": 54,
   "metadata": {},
   "outputs": [
    {
     "data": {
      "text/plain": [
       "array(['Chicago Daily Tribune', 'The Chicago Defender'], dtype=object)"
      ]
     },
     "execution_count": 54,
     "metadata": {},
     "output_type": "execute_result"
    }
   ],
   "source": [
    "g['paper_normed'].unique()"
   ]
  },
  {
   "cell_type": "markdown",
   "metadata": {},
   "source": [
    "Ditto, per year"
   ]
  },
  {
   "cell_type": "code",
   "execution_count": 16,
   "metadata": {
    "collapsed": true
   },
   "outputs": [],
   "source": [
    "fields = ['title', 'objecttype', 'year', 'n_valid_words']"
   ]
  },
  {
   "cell_type": "code",
   "execution_count": 22,
   "metadata": {
    "collapsed": true
   },
   "outputs": [],
   "source": [
    "g = df[fields].groupby(['title','objecttype','year']).count()"
   ]
  },
  {
   "cell_type": "code",
   "execution_count": 24,
   "metadata": {
    "collapsed": true
   },
   "outputs": [],
   "source": [
    "g.reset_index(inplace = True)"
   ]
  },
  {
   "cell_type": "code",
   "execution_count": 26,
   "metadata": {},
   "outputs": [
    {
     "data": {
      "text/html": [
       "<div>\n",
       "<style scoped>\n",
       "    .dataframe tbody tr th:only-of-type {\n",
       "        vertical-align: middle;\n",
       "    }\n",
       "\n",
       "    .dataframe tbody tr th {\n",
       "        vertical-align: top;\n",
       "    }\n",
       "\n",
       "    .dataframe thead th {\n",
       "        text-align: right;\n",
       "    }\n",
       "</style>\n",
       "<table border=\"1\" class=\"dataframe\">\n",
       "  <thead>\n",
       "    <tr style=\"text-align: right;\">\n",
       "      <th></th>\n",
       "      <th>title</th>\n",
       "      <th>objecttype</th>\n",
       "      <th>year</th>\n",
       "      <th>n_valid_words</th>\n",
       "    </tr>\n",
       "  </thead>\n",
       "  <tbody>\n",
       "    <tr>\n",
       "      <th>0</th>\n",
       "      <td>Chicago Daily Tribune (1872-1922)</td>\n",
       "      <td>Advertisement</td>\n",
       "      <td>1919</td>\n",
       "      <td>3834</td>\n",
       "    </tr>\n",
       "    <tr>\n",
       "      <th>1</th>\n",
       "      <td>Chicago Daily Tribune (1872-1922)</td>\n",
       "      <td>Advertisement</td>\n",
       "      <td>1920</td>\n",
       "      <td>4136</td>\n",
       "    </tr>\n",
       "    <tr>\n",
       "      <th>2</th>\n",
       "      <td>Chicago Daily Tribune (1872-1922)</td>\n",
       "      <td>Advertisement</td>\n",
       "      <td>1921</td>\n",
       "      <td>3737</td>\n",
       "    </tr>\n",
       "    <tr>\n",
       "      <th>3</th>\n",
       "      <td>Chicago Daily Tribune (1872-1922)</td>\n",
       "      <td>Advertisement</td>\n",
       "      <td>1922</td>\n",
       "      <td>3918</td>\n",
       "    </tr>\n",
       "    <tr>\n",
       "      <th>4</th>\n",
       "      <td>Chicago Daily Tribune (1872-1922)</td>\n",
       "      <td>Birth Notice</td>\n",
       "      <td>1919</td>\n",
       "      <td>2</td>\n",
       "    </tr>\n",
       "  </tbody>\n",
       "</table>\n",
       "</div>"
      ],
      "text/plain": [
       "                               title     objecttype  year  n_valid_words\n",
       "0  Chicago Daily Tribune (1872-1922)  Advertisement  1919           3834\n",
       "1  Chicago Daily Tribune (1872-1922)  Advertisement  1920           4136\n",
       "2  Chicago Daily Tribune (1872-1922)  Advertisement  1921           3737\n",
       "3  Chicago Daily Tribune (1872-1922)  Advertisement  1922           3918\n",
       "4  Chicago Daily Tribune (1872-1922)   Birth Notice  1919              2"
      ]
     },
     "execution_count": 26,
     "metadata": {},
     "output_type": "execute_result"
    }
   ],
   "source": [
    "g.head()"
   ]
  },
  {
   "cell_type": "code",
   "execution_count": 27,
   "metadata": {
    "collapsed": true
   },
   "outputs": [],
   "source": [
    "g.columns = ['paper','type','year', 'n_docs']"
   ]
  },
  {
   "cell_type": "code",
   "execution_count": 29,
   "metadata": {
    "collapsed": true
   },
   "outputs": [],
   "source": [
    "g.to_csv('/oak/stanford/groups/malgeehe/celebs/chicago_results/type_paper_year_ndocs.csv')"
   ]
  },
  {
   "cell_type": "code",
   "execution_count": 30,
   "metadata": {
    "collapsed": true
   },
   "outputs": [],
   "source": [
    "fields = ['title', 'objecttype', 'year', 'n_valid_words']"
   ]
  },
  {
   "cell_type": "code",
   "execution_count": 31,
   "metadata": {
    "collapsed": true
   },
   "outputs": [],
   "source": [
    "g = df[fields].groupby(['title','objecttype','year']).sum()"
   ]
  },
  {
   "cell_type": "code",
   "execution_count": 32,
   "metadata": {
    "collapsed": true
   },
   "outputs": [],
   "source": [
    "g.reset_index(inplace = True)"
   ]
  },
  {
   "cell_type": "code",
   "execution_count": 33,
   "metadata": {},
   "outputs": [
    {
     "data": {
      "text/html": [
       "<div>\n",
       "<style scoped>\n",
       "    .dataframe tbody tr th:only-of-type {\n",
       "        vertical-align: middle;\n",
       "    }\n",
       "\n",
       "    .dataframe tbody tr th {\n",
       "        vertical-align: top;\n",
       "    }\n",
       "\n",
       "    .dataframe thead th {\n",
       "        text-align: right;\n",
       "    }\n",
       "</style>\n",
       "<table border=\"1\" class=\"dataframe\">\n",
       "  <thead>\n",
       "    <tr style=\"text-align: right;\">\n",
       "      <th></th>\n",
       "      <th>title</th>\n",
       "      <th>objecttype</th>\n",
       "      <th>year</th>\n",
       "      <th>n_valid_words</th>\n",
       "    </tr>\n",
       "  </thead>\n",
       "  <tbody>\n",
       "    <tr>\n",
       "      <th>0</th>\n",
       "      <td>Chicago Daily Tribune (1872-1922)</td>\n",
       "      <td>Advertisement</td>\n",
       "      <td>1919</td>\n",
       "      <td>3077745</td>\n",
       "    </tr>\n",
       "    <tr>\n",
       "      <th>1</th>\n",
       "      <td>Chicago Daily Tribune (1872-1922)</td>\n",
       "      <td>Advertisement</td>\n",
       "      <td>1920</td>\n",
       "      <td>2880383</td>\n",
       "    </tr>\n",
       "    <tr>\n",
       "      <th>2</th>\n",
       "      <td>Chicago Daily Tribune (1872-1922)</td>\n",
       "      <td>Advertisement</td>\n",
       "      <td>1921</td>\n",
       "      <td>3113704</td>\n",
       "    </tr>\n",
       "    <tr>\n",
       "      <th>3</th>\n",
       "      <td>Chicago Daily Tribune (1872-1922)</td>\n",
       "      <td>Advertisement</td>\n",
       "      <td>1922</td>\n",
       "      <td>3235260</td>\n",
       "    </tr>\n",
       "    <tr>\n",
       "      <th>4</th>\n",
       "      <td>Chicago Daily Tribune (1872-1922)</td>\n",
       "      <td>Birth Notice</td>\n",
       "      <td>1919</td>\n",
       "      <td>30</td>\n",
       "    </tr>\n",
       "  </tbody>\n",
       "</table>\n",
       "</div>"
      ],
      "text/plain": [
       "                               title     objecttype  year  n_valid_words\n",
       "0  Chicago Daily Tribune (1872-1922)  Advertisement  1919        3077745\n",
       "1  Chicago Daily Tribune (1872-1922)  Advertisement  1920        2880383\n",
       "2  Chicago Daily Tribune (1872-1922)  Advertisement  1921        3113704\n",
       "3  Chicago Daily Tribune (1872-1922)  Advertisement  1922        3235260\n",
       "4  Chicago Daily Tribune (1872-1922)   Birth Notice  1919             30"
      ]
     },
     "execution_count": 33,
     "metadata": {},
     "output_type": "execute_result"
    }
   ],
   "source": [
    "g.head()"
   ]
  },
  {
   "cell_type": "code",
   "execution_count": 34,
   "metadata": {
    "collapsed": true
   },
   "outputs": [],
   "source": [
    "g.columns = ['paper','type','year', 'n_tokens']"
   ]
  },
  {
   "cell_type": "code",
   "execution_count": 35,
   "metadata": {
    "collapsed": true
   },
   "outputs": [],
   "source": [
    "g.to_csv('/oak/stanford/groups/malgeehe/celebs/chicago_results/type_paper_year_ntoks.csv')"
   ]
  }
 ],
 "metadata": {
  "kernelspec": {
   "display_name": "Python 3",
   "language": "python",
   "name": "python3"
  },
  "language_info": {
   "codemirror_mode": {
    "name": "ipython",
    "version": 3
   },
   "file_extension": ".py",
   "mimetype": "text/x-python",
   "name": "python",
   "nbconvert_exporter": "python",
   "pygments_lexer": "ipython3",
   "version": "3.6.1"
  }
 },
 "nbformat": 4,
 "nbformat_minor": 2
}
