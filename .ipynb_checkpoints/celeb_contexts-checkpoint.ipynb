{
 "cells": [
  {
   "cell_type": "markdown",
   "metadata": {},
   "source": [
    "Getting contexts in which top celeb mentions occur.\n",
    "\n",
    "We'll start with the top 1000 people in the *Defender* and in *Tribune*, making it easy to change later as needed.\n",
    "\n",
    "1. Get ranked top n celebs\n",
    "2. Get paths to associated XML files\n",
    "3. Pick x of those files randomly (5?) for samples per celeb\n",
    "4. For each of those files, open it, parse the XML, find the sentence containing the name, and extract that\n",
    "5. Create tabular output "
   ]
  },
  {
   "cell_type": "code",
   "execution_count": 108,
   "metadata": {
    "collapsed": true
   },
   "outputs": [],
   "source": [
    "import os\n",
    "from lxml import etree\n",
    "import pandas as pd\n",
    "from multiprocessing import Pool\n",
    "from collections import Counter"
   ]
  },
  {
   "cell_type": "code",
   "execution_count": 7,
   "metadata": {
    "collapsed": true
   },
   "outputs": [],
   "source": [
    "NAMES = '/oak/stanford/groups/malgeehe/celebs/chicago_results/chicago_name_paper_year.csv'"
   ]
  },
  {
   "cell_type": "code",
   "execution_count": 8,
   "metadata": {
    "collapsed": true
   },
   "outputs": [],
   "source": [
    "df = pd.read_csv(NAMES)"
   ]
  },
  {
   "cell_type": "code",
   "execution_count": 9,
   "metadata": {},
   "outputs": [
    {
     "data": {
      "text/html": [
       "<div>\n",
       "<style scoped>\n",
       "    .dataframe tbody tr th:only-of-type {\n",
       "        vertical-align: middle;\n",
       "    }\n",
       "\n",
       "    .dataframe tbody tr th {\n",
       "        vertical-align: top;\n",
       "    }\n",
       "\n",
       "    .dataframe thead th {\n",
       "        text-align: right;\n",
       "    }\n",
       "</style>\n",
       "<table border=\"1\" class=\"dataframe\">\n",
       "  <thead>\n",
       "    <tr style=\"text-align: right;\">\n",
       "      <th></th>\n",
       "      <th>Unnamed: 0</th>\n",
       "      <th>person</th>\n",
       "      <th>year</th>\n",
       "      <th>paper</th>\n",
       "      <th>n_mentions</th>\n",
       "    </tr>\n",
       "  </thead>\n",
       "  <tbody>\n",
       "    <tr>\n",
       "      <th>0</th>\n",
       "      <td>2474291</td>\n",
       "      <td>N. Clark</td>\n",
       "      <td>1935</td>\n",
       "      <td>Chicago Daily Tribune</td>\n",
       "      <td>1015</td>\n",
       "    </tr>\n",
       "    <tr>\n",
       "      <th>1</th>\n",
       "      <td>17547</td>\n",
       "      <td>- Cago</td>\n",
       "      <td>1935</td>\n",
       "      <td>Chicago Daily Tribune</td>\n",
       "      <td>985</td>\n",
       "    </tr>\n",
       "    <tr>\n",
       "      <th>2</th>\n",
       "      <td>2474294</td>\n",
       "      <td>N. Clark</td>\n",
       "      <td>1937</td>\n",
       "      <td>Chicago Daily Tribune</td>\n",
       "      <td>939</td>\n",
       "    </tr>\n",
       "    <tr>\n",
       "      <th>3</th>\n",
       "      <td>2541407</td>\n",
       "      <td>N. Y.</td>\n",
       "      <td>1935</td>\n",
       "      <td>Chicago Daily Tribune</td>\n",
       "      <td>785</td>\n",
       "    </tr>\n",
       "    <tr>\n",
       "      <th>4</th>\n",
       "      <td>17551</td>\n",
       "      <td>- Cago</td>\n",
       "      <td>1937</td>\n",
       "      <td>Chicago Daily Tribune</td>\n",
       "      <td>777</td>\n",
       "    </tr>\n",
       "  </tbody>\n",
       "</table>\n",
       "</div>"
      ],
      "text/plain": [
       "   Unnamed: 0    person  year                   paper  n_mentions\n",
       "0     2474291  N. Clark  1935  Chicago Daily Tribune         1015\n",
       "1       17547    - Cago  1935  Chicago Daily Tribune          985\n",
       "2     2474294  N. Clark  1937  Chicago Daily Tribune          939\n",
       "3     2541407     N. Y.  1935  Chicago Daily Tribune          785\n",
       "4       17551    - Cago  1937  Chicago Daily Tribune          777"
      ]
     },
     "execution_count": 9,
     "metadata": {},
     "output_type": "execute_result"
    }
   ],
   "source": [
    "df.head()"
   ]
  },
  {
   "cell_type": "code",
   "execution_count": 10,
   "metadata": {},
   "outputs": [
    {
     "data": {
      "text/plain": [
       "(3553244, 5)"
      ]
     },
     "execution_count": 10,
     "metadata": {},
     "output_type": "execute_result"
    }
   ],
   "source": [
    "df.shape"
   ]
  },
  {
   "cell_type": "markdown",
   "metadata": {},
   "source": [
    "Are the most frequent names by raw count all from the same(ish) years? It's tilted toward the 1930s.\n",
    "\n",
    "Perhaps better to take the top N most-mentioned names in *each* year? Let's make sure that each year has enough names..."
   ]
  },
  {
   "cell_type": "code",
   "execution_count": 19,
   "metadata": {
    "collapsed": true
   },
   "outputs": [],
   "source": [
    "g = df.groupby(['year','paper']).count()"
   ]
  },
  {
   "cell_type": "markdown",
   "metadata": {},
   "source": [
    "Ok, every year has well over 10k total name mentions across both papers"
   ]
  },
  {
   "cell_type": "code",
   "execution_count": 22,
   "metadata": {
    "collapsed": true
   },
   "outputs": [],
   "source": [
    "L = ['paper','year','n_mentions']"
   ]
  },
  {
   "cell_type": "code",
   "execution_count": 23,
   "metadata": {
    "collapsed": true
   },
   "outputs": [],
   "source": [
    "total_mentions = df[L].groupby(['paper','year']).sum()"
   ]
  },
  {
   "cell_type": "code",
   "execution_count": 25,
   "metadata": {
    "collapsed": true
   },
   "outputs": [],
   "source": [
    "total_mentions.reset_index(inplace = True)"
   ]
  },
  {
   "cell_type": "markdown",
   "metadata": {},
   "source": [
    "Ok, and then a multiple-match thing here:"
   ]
  },
  {
   "cell_type": "code",
   "execution_count": 27,
   "metadata": {
    "collapsed": true
   },
   "outputs": [],
   "source": [
    "test = pd.merge(df, total_mentions, on = ['paper','year'])"
   ]
  },
  {
   "cell_type": "code",
   "execution_count": 30,
   "metadata": {},
   "outputs": [
    {
     "data": {
      "text/plain": [
       "Index(['Unnamed: 0', 'person', 'year', 'paper', 'n_mentions_x',\n",
       "       'n_mentions_y'],\n",
       "      dtype='object')"
      ]
     },
     "execution_count": 30,
     "metadata": {},
     "output_type": "execute_result"
    }
   ],
   "source": [
    "test.columns"
   ]
  },
  {
   "cell_type": "code",
   "execution_count": 34,
   "metadata": {
    "collapsed": true
   },
   "outputs": [],
   "source": [
    "test['%_mentions'] = (test['n_mentions_x'] / test['n_mentions_y']) * 100"
   ]
  },
  {
   "cell_type": "code",
   "execution_count": 35,
   "metadata": {},
   "outputs": [
    {
     "data": {
      "text/html": [
       "<div>\n",
       "<style scoped>\n",
       "    .dataframe tbody tr th:only-of-type {\n",
       "        vertical-align: middle;\n",
       "    }\n",
       "\n",
       "    .dataframe tbody tr th {\n",
       "        vertical-align: top;\n",
       "    }\n",
       "\n",
       "    .dataframe thead th {\n",
       "        text-align: right;\n",
       "    }\n",
       "</style>\n",
       "<table border=\"1\" class=\"dataframe\">\n",
       "  <thead>\n",
       "    <tr style=\"text-align: right;\">\n",
       "      <th></th>\n",
       "      <th>Unnamed: 0</th>\n",
       "      <th>person</th>\n",
       "      <th>year</th>\n",
       "      <th>paper</th>\n",
       "      <th>n_mentions_x</th>\n",
       "      <th>n_mentions_y</th>\n",
       "      <th>%_mentions</th>\n",
       "    </tr>\n",
       "  </thead>\n",
       "  <tbody>\n",
       "    <tr>\n",
       "      <th>0</th>\n",
       "      <td>2474291</td>\n",
       "      <td>N. Clark</td>\n",
       "      <td>1935</td>\n",
       "      <td>Chicago Daily Tribune</td>\n",
       "      <td>1015</td>\n",
       "      <td>465432</td>\n",
       "      <td>0.218077</td>\n",
       "    </tr>\n",
       "    <tr>\n",
       "      <th>1</th>\n",
       "      <td>17547</td>\n",
       "      <td>- Cago</td>\n",
       "      <td>1935</td>\n",
       "      <td>Chicago Daily Tribune</td>\n",
       "      <td>985</td>\n",
       "      <td>465432</td>\n",
       "      <td>0.211631</td>\n",
       "    </tr>\n",
       "    <tr>\n",
       "      <th>2</th>\n",
       "      <td>2541407</td>\n",
       "      <td>N. Y.</td>\n",
       "      <td>1935</td>\n",
       "      <td>Chicago Daily Tribune</td>\n",
       "      <td>785</td>\n",
       "      <td>465432</td>\n",
       "      <td>0.168661</td>\n",
       "    </tr>\n",
       "    <tr>\n",
       "      <th>3</th>\n",
       "      <td>3348955</td>\n",
       "      <td>W. Madison</td>\n",
       "      <td>1935</td>\n",
       "      <td>Chicago Daily Tribune</td>\n",
       "      <td>680</td>\n",
       "      <td>465432</td>\n",
       "      <td>0.146101</td>\n",
       "    </tr>\n",
       "    <tr>\n",
       "      <th>4</th>\n",
       "      <td>2496786</td>\n",
       "      <td>N. J.</td>\n",
       "      <td>1935</td>\n",
       "      <td>Chicago Daily Tribune</td>\n",
       "      <td>621</td>\n",
       "      <td>465432</td>\n",
       "      <td>0.133424</td>\n",
       "    </tr>\n",
       "    <tr>\n",
       "      <th>...</th>\n",
       "      <td>...</td>\n",
       "      <td>...</td>\n",
       "      <td>...</td>\n",
       "      <td>...</td>\n",
       "      <td>...</td>\n",
       "      <td>...</td>\n",
       "      <td>...</td>\n",
       "    </tr>\n",
       "    <tr>\n",
       "      <th>3553239</th>\n",
       "      <td>1246437</td>\n",
       "      <td>George Florence</td>\n",
       "      <td>1926</td>\n",
       "      <td>The Chicago Defender</td>\n",
       "      <td>1</td>\n",
       "      <td>6425</td>\n",
       "      <td>0.015564</td>\n",
       "    </tr>\n",
       "    <tr>\n",
       "      <th>3553240</th>\n",
       "      <td>1250698</td>\n",
       "      <td>George Henry Lane</td>\n",
       "      <td>1926</td>\n",
       "      <td>The Chicago Defender</td>\n",
       "      <td>1</td>\n",
       "      <td>6425</td>\n",
       "      <td>0.015564</td>\n",
       "    </tr>\n",
       "    <tr>\n",
       "      <th>3553241</th>\n",
       "      <td>1250760</td>\n",
       "      <td>George Herald</td>\n",
       "      <td>1926</td>\n",
       "      <td>The Chicago Defender</td>\n",
       "      <td>1</td>\n",
       "      <td>6425</td>\n",
       "      <td>0.015564</td>\n",
       "    </tr>\n",
       "    <tr>\n",
       "      <th>3553242</th>\n",
       "      <td>1251742</td>\n",
       "      <td>George Hudson</td>\n",
       "      <td>1926</td>\n",
       "      <td>The Chicago Defender</td>\n",
       "      <td>1</td>\n",
       "      <td>6425</td>\n",
       "      <td>0.015564</td>\n",
       "    </tr>\n",
       "    <tr>\n",
       "      <th>3553243</th>\n",
       "      <td>1248754</td>\n",
       "      <td>George H.</td>\n",
       "      <td>1926</td>\n",
       "      <td>The Chicago Defender</td>\n",
       "      <td>1</td>\n",
       "      <td>6425</td>\n",
       "      <td>0.015564</td>\n",
       "    </tr>\n",
       "  </tbody>\n",
       "</table>\n",
       "<p>3553244 rows × 7 columns</p>\n",
       "</div>"
      ],
      "text/plain": [
       "         Unnamed: 0             person  year                   paper  \\\n",
       "0           2474291           N. Clark  1935  Chicago Daily Tribune    \n",
       "1             17547             - Cago  1935  Chicago Daily Tribune    \n",
       "2           2541407              N. Y.  1935  Chicago Daily Tribune    \n",
       "3           3348955         W. Madison  1935  Chicago Daily Tribune    \n",
       "4           2496786              N. J.  1935  Chicago Daily Tribune    \n",
       "...             ...                ...   ...                     ...   \n",
       "3553239     1246437    George Florence  1926   The Chicago Defender    \n",
       "3553240     1250698  George Henry Lane  1926   The Chicago Defender    \n",
       "3553241     1250760      George Herald  1926   The Chicago Defender    \n",
       "3553242     1251742      George Hudson  1926   The Chicago Defender    \n",
       "3553243     1248754          George H.  1926   The Chicago Defender    \n",
       "\n",
       "         n_mentions_x  n_mentions_y  %_mentions  \n",
       "0                1015        465432    0.218077  \n",
       "1                 985        465432    0.211631  \n",
       "2                 785        465432    0.168661  \n",
       "3                 680        465432    0.146101  \n",
       "4                 621        465432    0.133424  \n",
       "...               ...           ...         ...  \n",
       "3553239             1          6425    0.015564  \n",
       "3553240             1          6425    0.015564  \n",
       "3553241             1          6425    0.015564  \n",
       "3553242             1          6425    0.015564  \n",
       "3553243             1          6425    0.015564  \n",
       "\n",
       "[3553244 rows x 7 columns]"
      ]
     },
     "execution_count": 35,
     "metadata": {},
     "output_type": "execute_result"
    }
   ],
   "source": [
    "test"
   ]
  },
  {
   "cell_type": "markdown",
   "metadata": {},
   "source": [
    "And then top names per paper per year by `%_mentions`"
   ]
  },
  {
   "cell_type": "code",
   "execution_count": 36,
   "metadata": {
    "collapsed": true
   },
   "outputs": [],
   "source": [
    "L = ['person', 'paper', 'year', '%_mentions']"
   ]
  },
  {
   "cell_type": "code",
   "execution_count": 37,
   "metadata": {},
   "outputs": [
    {
     "data": {
      "text/plain": [
       "array(['Chicago Daily Tribune ', 'The Chicago Defender '], dtype=object)"
      ]
     },
     "execution_count": 37,
     "metadata": {},
     "output_type": "execute_result"
    }
   ],
   "source": [
    "papers"
   ]
  },
  {
   "cell_type": "code",
   "execution_count": 38,
   "metadata": {
    "collapsed": true
   },
   "outputs": [],
   "source": [
    "d = {}\n",
    "for paper in papers:\n",
    "    d[paper] = list(range(1919,1939))"
   ]
  },
  {
   "cell_type": "code",
   "execution_count": 42,
   "metadata": {},
   "outputs": [
    {
     "name": "stderr",
     "output_type": "stream",
     "text": [
      "/share/software/user/open/py-jupyter/1.0.0_py36/lib/python3.6/site-packages/ipykernel_launcher.py:7: SettingWithCopyWarning: \n",
      "A value is trying to be set on a copy of a slice from a DataFrame\n",
      "\n",
      "See the caveats in the documentation: https://pandas.pydata.org/pandas-docs/stable/user_guide/indexing.html#returning-a-view-versus-a-copy\n",
      "  import sys\n"
     ]
    }
   ],
   "source": [
    "L = []\n",
    "N = 200\n",
    "for k, v in d.items():\n",
    "    data = test[test['paper'] == k]\n",
    "    for x in v:\n",
    "        temp = data[data['year'] == x]\n",
    "        temp.sort_values('%_mentions', ascending = False, inplace = True)\n",
    "        L.append(temp[:N].copy())"
   ]
  },
  {
   "cell_type": "code",
   "execution_count": 44,
   "metadata": {
    "collapsed": true
   },
   "outputs": [],
   "source": [
    "out = pd.concat(L)"
   ]
  },
  {
   "cell_type": "code",
   "execution_count": 53,
   "metadata": {
    "collapsed": true
   },
   "outputs": [],
   "source": [
    "out.to_csv('/oak/stanford/groups/malgeehe/celebs/chicago_results/200_people_per_paper_per_year.csv')"
   ]
  },
  {
   "cell_type": "markdown",
   "metadata": {},
   "source": [
    "Here we'll get top names by paper as a proportion of all mentions"
   ]
  },
  {
   "cell_type": "code",
   "execution_count": 67,
   "metadata": {},
   "outputs": [
    {
     "data": {
      "text/plain": [
       "Index(['Unnamed: 0', 'person', 'year', 'paper', 'n_mentions'], dtype='object')"
      ]
     },
     "execution_count": 67,
     "metadata": {},
     "output_type": "execute_result"
    }
   ],
   "source": [
    "df.columns"
   ]
  },
  {
   "cell_type": "code",
   "execution_count": 68,
   "metadata": {
    "collapsed": true
   },
   "outputs": [],
   "source": [
    "L = ['paper','n_mentions']"
   ]
  },
  {
   "cell_type": "code",
   "execution_count": 69,
   "metadata": {
    "collapsed": true
   },
   "outputs": [],
   "source": [
    "total_mentions = df[L].groupby('paper').sum()"
   ]
  },
  {
   "cell_type": "code",
   "execution_count": 70,
   "metadata": {
    "collapsed": true
   },
   "outputs": [],
   "source": [
    "total_mentions.reset_index(inplace = True)"
   ]
  },
  {
   "cell_type": "code",
   "execution_count": 76,
   "metadata": {
    "collapsed": true
   },
   "outputs": [],
   "source": [
    "L = ['person','paper','n_mentions']"
   ]
  },
  {
   "cell_type": "code",
   "execution_count": 77,
   "metadata": {
    "collapsed": true
   },
   "outputs": [],
   "source": [
    "total_people_mentions = df[L].groupby(['person','paper']).sum()"
   ]
  },
  {
   "cell_type": "code",
   "execution_count": 81,
   "metadata": {
    "collapsed": true
   },
   "outputs": [],
   "source": [
    "total_people_mentions.reset_index(inplace = True)"
   ]
  },
  {
   "cell_type": "markdown",
   "metadata": {},
   "source": [
    "Ok, and then a multiple-match thing here:"
   ]
  },
  {
   "cell_type": "code",
   "execution_count": 82,
   "metadata": {
    "collapsed": true
   },
   "outputs": [],
   "source": [
    "test = pd.merge(total_people_mentions, total_mentions, on = 'paper')"
   ]
  },
  {
   "cell_type": "code",
   "execution_count": 83,
   "metadata": {},
   "outputs": [
    {
     "data": {
      "text/plain": [
       "Index(['person', 'paper', 'n_mentions_x', 'n_mentions_y'], dtype='object')"
      ]
     },
     "execution_count": 83,
     "metadata": {},
     "output_type": "execute_result"
    }
   ],
   "source": [
    "test.columns"
   ]
  },
  {
   "cell_type": "code",
   "execution_count": 84,
   "metadata": {
    "collapsed": true
   },
   "outputs": [],
   "source": [
    "test['%_mentions'] = (test['n_mentions_x'] / test['n_mentions_y']) * 100"
   ]
  },
  {
   "cell_type": "code",
   "execution_count": 87,
   "metadata": {
    "collapsed": true
   },
   "outputs": [],
   "source": [
    "test.sort_values('%_mentions', ascending = False, inplace = True)"
   ]
  },
  {
   "cell_type": "code",
   "execution_count": 88,
   "metadata": {},
   "outputs": [
    {
     "data": {
      "text/plain": [
       "Index(['person', 'paper', 'n_mentions_x', 'n_mentions_y', '%_mentions'], dtype='object')"
      ]
     },
     "execution_count": 88,
     "metadata": {},
     "output_type": "execute_result"
    }
   ],
   "source": [
    "test.columns"
   ]
  },
  {
   "cell_type": "code",
   "execution_count": 89,
   "metadata": {},
   "outputs": [
    {
     "data": {
      "text/plain": [
       "array(['Chicago Daily Tribune ', 'The Chicago Defender '], dtype=object)"
      ]
     },
     "execution_count": 89,
     "metadata": {},
     "output_type": "execute_result"
    }
   ],
   "source": [
    "papers"
   ]
  },
  {
   "cell_type": "code",
   "execution_count": 92,
   "metadata": {
    "collapsed": true
   },
   "outputs": [],
   "source": [
    "top_tribune = list(test[test['paper'] == papers[0]]['person'][:500])"
   ]
  },
  {
   "cell_type": "code",
   "execution_count": 93,
   "metadata": {
    "collapsed": true
   },
   "outputs": [],
   "source": [
    "top_defender = list(test[test['paper'] == papers[1]]['person'][:500])"
   ]
  },
  {
   "cell_type": "markdown",
   "metadata": {},
   "source": [
    "Ok, load up name-file relationships"
   ]
  },
  {
   "cell_type": "code",
   "execution_count": 56,
   "metadata": {
    "collapsed": true
   },
   "outputs": [],
   "source": [
    "DATA = '/oak/stanford/groups/malgeehe/celebs/chicago_results/chicago_names'"
   ]
  },
  {
   "cell_type": "code",
   "execution_count": 57,
   "metadata": {
    "collapsed": true
   },
   "outputs": [],
   "source": [
    "files = [os.path.join(DATA, x) for x in os.listdir(DATA) if x.endswith('.tsv')]"
   ]
  },
  {
   "cell_type": "code",
   "execution_count": 63,
   "metadata": {
    "collapsed": true
   },
   "outputs": [],
   "source": [
    "def get_data(tsv):\n",
    "    df = pd.read_csv(tsv, sep = '\\t')\n",
    "    df.columns = ['path','name']\n",
    "    return df"
   ]
  },
  {
   "cell_type": "code",
   "execution_count": 64,
   "metadata": {
    "collapsed": true
   },
   "outputs": [],
   "source": [
    "with Pool() as p:\n",
    "    L = p.map(get_data, files)"
   ]
  },
  {
   "cell_type": "code",
   "execution_count": 65,
   "metadata": {
    "collapsed": true
   },
   "outputs": [],
   "source": [
    "name_file = pd.concat(L)"
   ]
  },
  {
   "cell_type": "code",
   "execution_count": 99,
   "metadata": {},
   "outputs": [
    {
     "data": {
      "text/plain": [
       "Index(['path', 'name'], dtype='object')"
      ]
     },
     "execution_count": 99,
     "metadata": {},
     "output_type": "execute_result"
    }
   ],
   "source": [
    "name_file.columns"
   ]
  },
  {
   "cell_type": "code",
   "execution_count": 100,
   "metadata": {
    "collapsed": true
   },
   "outputs": [],
   "source": [
    "t_check = name_file[name_file['name'].isin(top_tribune)]"
   ]
  },
  {
   "cell_type": "code",
   "execution_count": 101,
   "metadata": {
    "collapsed": true
   },
   "outputs": [],
   "source": [
    "d_check = name_file[name_file['name'].isin(top_defender)]"
   ]
  },
  {
   "cell_type": "code",
   "execution_count": 104,
   "metadata": {},
   "outputs": [
    {
     "data": {
      "text/plain": [
       "630005"
      ]
     },
     "execution_count": 104,
     "metadata": {},
     "output_type": "execute_result"
    }
   ],
   "source": [
    "len(t_check['path'].unique())"
   ]
  },
  {
   "cell_type": "code",
   "execution_count": 107,
   "metadata": {
    "collapsed": true
   },
   "outputs": [],
   "source": [
    "t_check.to_csv('/oak/stanford/groups/malgeehe/celebs/chicago_results/tribune_get_context.csv')"
   ]
  },
  {
   "cell_type": "code",
   "execution_count": 105,
   "metadata": {},
   "outputs": [
    {
     "data": {
      "text/plain": [
       "362508"
      ]
     },
     "execution_count": 105,
     "metadata": {},
     "output_type": "execute_result"
    }
   ],
   "source": [
    "len(d_check['path'].unique())"
   ]
  },
  {
   "cell_type": "code",
   "execution_count": 108,
   "metadata": {
    "collapsed": true
   },
   "outputs": [],
   "source": [
    "d_check.to_csv('/oak/stanford/groups/malgeehe/celebs/chicago_results/defender_get_context.csv')"
   ]
  },
  {
   "cell_type": "markdown",
   "metadata": {},
   "source": [
    "Ok, now that we have files to check, we need to actually parse them.\n",
    "\n",
    "# Parsing xml"
   ]
  },
  {
   "cell_type": "code",
   "execution_count": 3,
   "metadata": {},
   "outputs": [],
   "source": [
    "d_check = pd.read_csv('/oak/stanford/groups/malgeehe/celebs/chicago_results/defender_get_context.csv')"
   ]
  },
  {
   "cell_type": "code",
   "execution_count": 4,
   "metadata": {
    "collapsed": true
   },
   "outputs": [],
   "source": [
    "t_check = pd.read_csv('/oak/stanford/groups/malgeehe/celebs/chicago_results/tribune_get_context.csv')"
   ]
  },
  {
   "cell_type": "markdown",
   "metadata": {},
   "source": [
    "Let's choose 5 (?) random files per person to get the sample sentences."
   ]
  },
  {
   "cell_type": "code",
   "execution_count": 5,
   "metadata": {},
   "outputs": [
    {
     "data": {
      "text/plain": [
       "Index(['Unnamed: 0', 'path', 'name'], dtype='object')"
      ]
     },
     "execution_count": 5,
     "metadata": {},
     "output_type": "execute_result"
    }
   ],
   "source": [
    "d_check.columns"
   ]
  },
  {
   "cell_type": "code",
   "execution_count": 9,
   "metadata": {
    "collapsed": true
   },
   "outputs": [],
   "source": [
    "g = d_check.groupby('name').count()"
   ]
  },
  {
   "cell_type": "code",
   "execution_count": 11,
   "metadata": {},
   "outputs": [
    {
     "data": {
      "text/html": [
       "<div>\n",
       "<style scoped>\n",
       "    .dataframe tbody tr th:only-of-type {\n",
       "        vertical-align: middle;\n",
       "    }\n",
       "\n",
       "    .dataframe tbody tr th {\n",
       "        vertical-align: top;\n",
       "    }\n",
       "\n",
       "    .dataframe thead th {\n",
       "        text-align: right;\n",
       "    }\n",
       "</style>\n",
       "<table border=\"1\" class=\"dataframe\">\n",
       "  <thead>\n",
       "    <tr style=\"text-align: right;\">\n",
       "      <th></th>\n",
       "      <th>Unnamed: 0</th>\n",
       "      <th>path</th>\n",
       "    </tr>\n",
       "    <tr>\n",
       "      <th>name</th>\n",
       "      <th></th>\n",
       "      <th></th>\n",
       "    </tr>\n",
       "  </thead>\n",
       "  <tbody>\n",
       "    <tr>\n",
       "      <th>C. H. Thomas</th>\n",
       "      <td>167</td>\n",
       "      <td>167</td>\n",
       "    </tr>\n",
       "    <tr>\n",
       "      <th>Clayborne George</th>\n",
       "      <td>173</td>\n",
       "      <td>173</td>\n",
       "    </tr>\n",
       "    <tr>\n",
       "      <th>Billy Tucker</th>\n",
       "      <td>182</td>\n",
       "      <td>182</td>\n",
       "    </tr>\n",
       "    <tr>\n",
       "      <th>Mary F. Waring</th>\n",
       "      <td>185</td>\n",
       "      <td>185</td>\n",
       "    </tr>\n",
       "    <tr>\n",
       "      <th>Dewey R. Jones</th>\n",
       "      <td>185</td>\n",
       "      <td>185</td>\n",
       "    </tr>\n",
       "    <tr>\n",
       "      <th>...</th>\n",
       "      <td>...</td>\n",
       "      <td>...</td>\n",
       "    </tr>\n",
       "    <tr>\n",
       "      <th>St. Paul</th>\n",
       "      <td>11456</td>\n",
       "      <td>11456</td>\n",
       "    </tr>\n",
       "    <tr>\n",
       "      <th>Van Buren</th>\n",
       "      <td>16499</td>\n",
       "      <td>16499</td>\n",
       "    </tr>\n",
       "    <tr>\n",
       "      <th>N. J.</th>\n",
       "      <td>17181</td>\n",
       "      <td>17181</td>\n",
       "    </tr>\n",
       "    <tr>\n",
       "      <th>N. Y.</th>\n",
       "      <td>25162</td>\n",
       "      <td>25162</td>\n",
       "    </tr>\n",
       "    <tr>\n",
       "      <th>- Cago</th>\n",
       "      <td>26380</td>\n",
       "      <td>26380</td>\n",
       "    </tr>\n",
       "  </tbody>\n",
       "</table>\n",
       "<p>500 rows × 2 columns</p>\n",
       "</div>"
      ],
      "text/plain": [
       "                  Unnamed: 0   path\n",
       "name                               \n",
       "C. H. Thomas             167    167\n",
       "Clayborne George         173    173\n",
       "Billy Tucker             182    182\n",
       "Mary F. Waring           185    185\n",
       "Dewey R. Jones           185    185\n",
       "...                      ...    ...\n",
       "St. Paul               11456  11456\n",
       "Van Buren              16499  16499\n",
       "N. J.                  17181  17181\n",
       "N. Y.                  25162  25162\n",
       "- Cago                 26380  26380\n",
       "\n",
       "[500 rows x 2 columns]"
      ]
     },
     "execution_count": 11,
     "metadata": {},
     "output_type": "execute_result"
    }
   ],
   "source": [
    "g.sort_values('path')"
   ]
  },
  {
   "cell_type": "markdown",
   "metadata": {},
   "source": [
    "Ok, smallest is 167, highest is 26380 in the smaller paper. 5-10 examples is no problem."
   ]
  },
  {
   "cell_type": "code",
   "execution_count": 185,
   "metadata": {
    "collapsed": true
   },
   "outputs": [],
   "source": [
    "def sample_sentence(row):\n",
    "    \n",
    "    with open(row[1]['path']) as f: # using this annotation because of itterrows...\n",
    "        tree = etree.parse(f)\n",
    "        target_name = [x.strip() for x in row[1]['name'].split() if x] # if x to drop blanks\n",
    "        # find related tokens\n",
    "        people_tokens = [x.getparent() for x in tree.xpath(\"//NER\") if x.text == 'PERSON']    \n",
    "        matches = [x for x in people_tokens if x[0].text.title() in target_name]\n",
    "        # find out which sentences those tokens belong to\n",
    "        sents = Counter([x.getparent().getparent() for x in matches])\n",
    "\n",
    "        # find out which sentences have full names in them\n",
    "        full_names = []\n",
    "        for k,v in sents.items():\n",
    "            if v == len(target_name):\n",
    "                full_names.append(k)\n",
    "\n",
    "        if len(full_names) == 1:\n",
    "            # get the sentence\n",
    "            sample = full_names.pop()\n",
    "        elif len(full_names) > 1:\n",
    "            sample = random.choice(full_names)\n",
    "        else:\n",
    "            sample = random.choice([x.getparent().getparent() for x in matches])\n",
    "\n",
    "        # get sentence words\n",
    "        sentence = ' '.join([x.text for x in sample.iter() if x.tag == 'word'])\n",
    "\n",
    "        d = {}\n",
    "        d['name'] = row[1]['name']\n",
    "        d['path'] = row[1]['path']\n",
    "        d['example'] = sentence\n",
    "        \n",
    "    return d"
   ]
  },
  {
   "cell_type": "markdown",
   "metadata": {},
   "source": [
    "Subset the dataframe to 5 rows per person."
   ]
  },
  {
   "cell_type": "code",
   "execution_count": 208,
   "metadata": {
    "collapsed": true
   },
   "outputs": [],
   "source": [
    "t_people = t_check['name'].unique()"
   ]
  },
  {
   "cell_type": "code",
   "execution_count": 209,
   "metadata": {},
   "outputs": [
    {
     "name": "stdout",
     "output_type": "stream",
     "text": [
      "490"
     ]
    }
   ],
   "source": [
    "# for each of those people, choose five random rows, and get sample sentences:\n",
    "L = []\n",
    "\n",
    "for i, person in enumerate(t_people):\n",
    "    df = t_check[t_check['name'] == person]\n",
    "    df = df.sample(10)\n",
    "    \n",
    "    for row in df.iterrows():\n",
    "        L.append(sample_sentence(row))\n",
    "    \n",
    "    if i % 10 == 0:\n",
    "        print('\\r{}'.format(i), end = '')"
   ]
  },
  {
   "cell_type": "code",
   "execution_count": 210,
   "metadata": {},
   "outputs": [],
   "source": [
    "d = pd.DataFrame(L)"
   ]
  },
  {
   "cell_type": "code",
   "execution_count": 211,
   "metadata": {},
   "outputs": [
    {
     "data": {
      "text/html": [
       "<div>\n",
       "<style scoped>\n",
       "    .dataframe tbody tr th:only-of-type {\n",
       "        vertical-align: middle;\n",
       "    }\n",
       "\n",
       "    .dataframe tbody tr th {\n",
       "        vertical-align: top;\n",
       "    }\n",
       "\n",
       "    .dataframe thead th {\n",
       "        text-align: right;\n",
       "    }\n",
       "</style>\n",
       "<table border=\"1\" class=\"dataframe\">\n",
       "  <thead>\n",
       "    <tr style=\"text-align: right;\">\n",
       "      <th></th>\n",
       "      <th>name</th>\n",
       "      <th>path</th>\n",
       "      <th>example</th>\n",
       "    </tr>\n",
       "  </thead>\n",
       "  <tbody>\n",
       "    <tr>\n",
       "      <th>0</th>\n",
       "      <td>N. Clark-St</td>\n",
       "      <td>/scratch/groups/malgeehe/celebs/chicago_corenl...</td>\n",
       "      <td>Funeral servIce from chape : , 2701 N. Clark-st .</td>\n",
       "    </tr>\n",
       "    <tr>\n",
       "      <th>1</th>\n",
       "      <td>N. Clark-St</td>\n",
       "      <td>/scratch/groups/malgeehe/celebs/chicago_corenl...</td>\n",
       "      <td>W. WAiK1t : 4010 N. Clark-st .</td>\n",
       "    </tr>\n",
       "    <tr>\n",
       "      <th>2</th>\n",
       "      <td>N. Clark-St</td>\n",
       "      <td>/scratch/groups/malgeehe/celebs/chicago_corenl...</td>\n",
       "      <td>7720-56 lla tol tenan 6712 N. Clark-st .</td>\n",
       "    </tr>\n",
       "    <tr>\n",
       "      <th>3</th>\n",
       "      <td>N. Clark-St</td>\n",
       "      <td>/scratch/groups/malgeehe/celebs/chicago_corenl...</td>\n",
       "      <td>6t005 N. Clark-st .</td>\n",
       "    </tr>\n",
       "    <tr>\n",
       "      <th>4</th>\n",
       "      <td>N. Clark-St</td>\n",
       "      <td>/scratch/groups/malgeehe/celebs/chicago_corenl...</td>\n",
       "      <td>136 N. Clark-st .</td>\n",
       "    </tr>\n",
       "  </tbody>\n",
       "</table>\n",
       "</div>"
      ],
      "text/plain": [
       "          name                                               path  \\\n",
       "0  N. Clark-St  /scratch/groups/malgeehe/celebs/chicago_corenl...   \n",
       "1  N. Clark-St  /scratch/groups/malgeehe/celebs/chicago_corenl...   \n",
       "2  N. Clark-St  /scratch/groups/malgeehe/celebs/chicago_corenl...   \n",
       "3  N. Clark-St  /scratch/groups/malgeehe/celebs/chicago_corenl...   \n",
       "4  N. Clark-St  /scratch/groups/malgeehe/celebs/chicago_corenl...   \n",
       "\n",
       "                                             example  \n",
       "0  Funeral servIce from chape : , 2701 N. Clark-st .  \n",
       "1                     W. WAiK1t : 4010 N. Clark-st .  \n",
       "2           7720-56 lla tol tenan 6712 N. Clark-st .  \n",
       "3                                6t005 N. Clark-st .  \n",
       "4                                  136 N. Clark-st .  "
      ]
     },
     "execution_count": 211,
     "metadata": {},
     "output_type": "execute_result"
    }
   ],
   "source": [
    "d.head()"
   ]
  },
  {
   "cell_type": "code",
   "execution_count": 212,
   "metadata": {},
   "outputs": [],
   "source": [
    "d.to_csv('/oak/stanford/groups/malgeehe/celebs/chicago_results/tribune_sentence_samples.csv')"
   ]
  }
 ],
 "metadata": {
  "kernelspec": {
   "display_name": "Python 3",
   "language": "python",
   "name": "python3"
  },
  "language_info": {
   "codemirror_mode": {
    "name": "ipython",
    "version": 3
   },
   "file_extension": ".py",
   "mimetype": "text/x-python",
   "name": "python",
   "nbconvert_exporter": "python",
   "pygments_lexer": "ipython3",
   "version": "3.6.1"
  }
 },
 "nbformat": 4,
 "nbformat_minor": 2
}
