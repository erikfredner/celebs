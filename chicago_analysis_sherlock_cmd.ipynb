{
 "cells": [
  {
   "cell_type": "code",
   "execution_count": 29,
   "metadata": {
    "collapsed": true
   },
   "outputs": [],
   "source": [
    "# Functions\n",
    "import json\n",
    "import os\n",
    "from lxml import etree\n",
    "import random\n",
    "from multiprocessing import Pool\n",
    "import sys"
   ]
  },
  {
   "cell_type": "code",
   "execution_count": 30,
   "metadata": {
    "collapsed": true
   },
   "outputs": [],
   "source": [
    "def make_filelist(path):\n",
    "    with open(path) as f:\n",
    "        return [x for x in f.read().split('\\n') if x]"
   ]
  },
  {
   "cell_type": "code",
   "execution_count": 31,
   "metadata": {
    "collapsed": true
   },
   "outputs": [],
   "source": [
    "def get_people(file):\n",
    "    tree = etree.parse(file)\n",
    "    people = [x for x in tree.xpath(\"//NER\") if x.text == 'PERSON']\n",
    "    tokens = [x.getparent() for x in people]\n",
    "    l = []\n",
    "    prev_end = 0\n",
    "    name_id = 0\n",
    "    \n",
    "    for tok in tokens:\n",
    "        d = {}\n",
    "        data = [x.text for x in tok.getchildren()]\n",
    "        # TODO this is dumb surely there's a better way\n",
    "        d['word']=data[0]\n",
    "#        d['lemma']=data[1]\n",
    "        d['start']=data[2]\n",
    "        curr_start = data[2]\n",
    "        d['end']=data[3]\n",
    "        \n",
    "        # check if there is something in the XML that already provides for this\n",
    "        if (int(curr_start) - int(prev_end)) == 1:\n",
    "            d['adjacent'] = True\n",
    "            d['name_id'] = name_id\n",
    "            # go back to the previous dictionary in the list and assert True\n",
    "            if len(l) > 0: # skip zeroth case\n",
    "                l[-1]['adjacent'] = True\n",
    "                l[-1]['name_id'] = name_id\n",
    "        else:\n",
    "            d['adjacent'] = False\n",
    "            d['name_id'] = None\n",
    "        \n",
    "        if len(l) > 0 and l[-1]['adjacent'] == True and d['adjacent'] == False:\n",
    "            name_id += 1\n",
    "        \n",
    "        d['pos']=data[4]\n",
    "        d['ner']=data[5]\n",
    "        d['speaker']=data[6]\n",
    "        d['file'] = tok.base\n",
    "        prev_end = data[3]\n",
    "        l.append(d)\n",
    "    \n",
    "    return l"
   ]
  },
  {
   "cell_type": "code",
   "execution_count": 32,
   "metadata": {
    "collapsed": true
   },
   "outputs": [],
   "source": [
    "def pool_people(filelist,path):\n",
    "    with Pool() as p:\n",
    "        l = p.map(get_people,filelist)\n",
    "    data = [item for sublist in l for item in sublist] # flatten list\n",
    "    filename = os.path.split(path)[-1].split('.txt')[0] + '.json'\n",
    "    out = '/scratch/groups/malgeehe/celebs/chicago_people/json/'\n",
    "    fp = os.path.join(out,filename)\n",
    "    with open(fp,'w') as f:\n",
    "        f.write(json.dumps(data,indent=2))\n",
    "        f.close()\n",
    "    return fp"
   ]
  },
  {
   "cell_type": "code",
   "execution_count": 33,
   "metadata": {},
   "outputs": [],
   "source": [
    "def get_people_xml(path):\n",
    "    '''Converts list of paths to xml files into json of people data'''\n",
    "    print('get_people_xml operating on {}'.format(path))\n",
    "    files = make_filelist(path)\n",
    "    output = pool_people(files,path)\n",
    "    print('written to {}'.format(output))\n",
    "    return"
   ]
  },
  {
   "cell_type": "code",
   "execution_count": 35,
   "metadata": {},
   "outputs": [
    {
     "name": "stdout",
     "output_type": "stream",
     "text": [
      "problem with sys.argv: ['/share/software/user/open/py-jupyter/1.0.0_py36/lib/python3.6/site-packages/ipykernel_launcher.py', '-f', '/tmp/jupyter/kernel-d967cd7b-5067-40c0-a050-586a0e5646c3.json']\n"
     ]
    }
   ],
   "source": [
    "path = [x for x in sys.argv if '/scratch/groups/malgeehe/celebs/chicago_people/filelists/group_' in x]\n",
    "if len(path) == 1:\n",
    "    path = str(path[0])\n",
    "    get_people_xml(path)\n",
    "else:\n",
    "    print('problem with sys.argv: {}'.format(sys.argv))"
   ]
  }
 ],
 "metadata": {
  "kernelspec": {
   "display_name": "Python 3",
   "language": "python",
   "name": "python3"
  },
  "language_info": {
   "codemirror_mode": {
    "name": "ipython",
    "version": 3
   },
   "file_extension": ".py",
   "mimetype": "text/x-python",
   "name": "python",
   "nbconvert_exporter": "python",
   "pygments_lexer": "ipython3",
   "version": "3.6.1"
  }
 },
 "nbformat": 4,
 "nbformat_minor": 2
}
