{
 "cells": [
  {
   "cell_type": "markdown",
   "metadata": {},
   "source": [
    "Creates an HTML document for an individual person in the corpus containing:\n",
    "- A date-ordered list of documents in which they appear, and the relevant paper\n",
    "- Which link to full-text copies of those articles"
   ]
  },
  {
   "cell_type": "code",
   "execution_count": 1,
   "metadata": {},
   "outputs": [],
   "source": [
    "import os\n",
    "from lxml import etree\n",
    "import pandas as pd\n",
    "from multiprocessing import Pool\n",
    "import random\n",
    "import time"
   ]
  },
  {
   "cell_type": "code",
   "execution_count": 2,
   "metadata": {
    "collapsed": true
   },
   "outputs": [],
   "source": [
    "TEMPLATE = '''<!DOCTYPE html>\n",
    "<html lang=\"en\">\n",
    "  <head>\n",
    "    <meta charset=\"utf-8\">\n",
    "    <title>{celeb_name}</title>\n",
    "  </head>\n",
    "  <body>\n",
    "  \n",
    "    <header>\n",
    "        <h1>{celeb_name}</h1>\n",
    "    </header>\n",
    "    \n",
    "    <ul>\n",
    "        {toc}\n",
    "    </ul>\n",
    "    \n",
    "    {documents}\n",
    "    \n",
    "  </body>\n",
    "</html>\n",
    "'''"
   ]
  },
  {
   "cell_type": "code",
   "execution_count": 3,
   "metadata": {
    "collapsed": true
   },
   "outputs": [],
   "source": [
    "META = '/oak/stanford/groups/malgeehe/celebs/chicago_results/names_annual'\n",
    "META = [os.path.join(META, x) for x in os.listdir(META) if '._' not in x]\n",
    "META = sorted(META)"
   ]
  },
  {
   "cell_type": "code",
   "execution_count": 4,
   "metadata": {
    "collapsed": true
   },
   "outputs": [],
   "source": [
    "def filter_meta(files, name):\n",
    "    L = []\n",
    "    for file in files:\n",
    "#         fn = os.path.split(file)[1]\n",
    "#         print('\\rchecking {}'.format(fn), end = '')\n",
    "        with open(file) as f:\n",
    "            for line in f:\n",
    "                if name in line:\n",
    "                    L.append(file)\n",
    "#                     print('\\rfound {} in {}'.format(name, fn), end = '')\n",
    "                    break\n",
    "            continue\n",
    "    return L"
   ]
  },
  {
   "cell_type": "code",
   "execution_count": 5,
   "metadata": {
    "collapsed": true
   },
   "outputs": [],
   "source": [
    "def get_xml_paths(csv, name):\n",
    "    df = pd.read_csv(csv)\n",
    "    subset = df[df['person'].str.match(name)]\n",
    "    return subset, list(subset['xml_path'].unique())"
   ]
  },
  {
   "cell_type": "code",
   "execution_count": 6,
   "metadata": {
    "collapsed": true
   },
   "outputs": [],
   "source": [
    "def make_p(path, name):\n",
    "    with open(path) as f:\n",
    "        tree = etree.parse(f)\n",
    "        # get all objects matching type\n",
    "        words = [x.text for x in tree.iterfind(\".//word\")]\n",
    "        names = [x for x in name.strip().lower().split(' ') if x]\n",
    "        # mark target terms\n",
    "        L = []\n",
    "        for word in words:\n",
    "            if '<' or '>' in word: # prevent unintended html formatting\n",
    "                word = word.replace('<', '').replace('>', '')\n",
    "            if word.lower() in names:\n",
    "                fmt = '<mark>' + word + '</mark>'\n",
    "                L.append(fmt)\n",
    "            else:\n",
    "                L.append(word)\n",
    "        text = ' '.join(L)\n",
    "        text = '<p>' + text + '</p>'\n",
    "        return text"
   ]
  },
  {
   "cell_type": "code",
   "execution_count": 7,
   "metadata": {
    "collapsed": true
   },
   "outputs": [],
   "source": [
    "def make_header_bullet(path, subset, id_num, p):\n",
    "    meta = subset[subset['xml_path'] == path][:1] # take top row in case multiple rows\n",
    "    d = meta.to_dict('index')\n",
    "    d = [x for x in d.values()][0] # dumb\n",
    "    data = str(d['year']) + '\\t<i>' + d['paper'].strip() + '</i>\\t' + d['doc_type']\n",
    "    header = '<a id =\"{}\"><h3>{}</h3></a>\\n<p>{}</p>\\n{}'.format(id_num, d['doc_title'].title(),\n",
    "                                                                      data, p) \n",
    "    bullet = '<li><a href=\"#{}\">{data}:\\t\"{title}\"</a>'.format(id_num, data = data,\n",
    "                                                              title = d['doc_title'].title())\n",
    "    return header, bullet"
   ]
  },
  {
   "cell_type": "code",
   "execution_count": 8,
   "metadata": {
    "collapsed": true
   },
   "outputs": [],
   "source": [
    "def update_docs(header, bullet):\n",
    "    headers += '\\n' + header\n",
    "    bullets += '\\n' + bullet\n",
    "    return headers, bullets"
   ]
  },
  {
   "cell_type": "code",
   "execution_count": 9,
   "metadata": {
    "collapsed": true
   },
   "outputs": [],
   "source": [
    "def customize_template(template, name, headers, bullets):\n",
    "    return template.format(celeb_name = name, toc = bullets, documents = headers)"
   ]
  },
  {
   "cell_type": "code",
   "execution_count": 10,
   "metadata": {
    "collapsed": true
   },
   "outputs": [],
   "source": [
    "def get_html_texts(tup): # dumb\n",
    "    name, META, TEMPLATE = tup\n",
    "    csvs = filter_meta(META, name)\n",
    "    id_num = 0\n",
    "    headers = ''\n",
    "    bullets = ''\n",
    "    \n",
    "    for i, csv in enumerate(csvs):\n",
    "#         print('\\rcsv #{} of {}'.format(i + 1, len(csvs)), end = '')\n",
    "        subset, paths = get_xml_paths(csv, name)\n",
    "        for i, path in enumerate(paths):\n",
    "            p = make_p(path, name)\n",
    "            header, bullet = make_header_bullet(path, subset, id_num, p)\n",
    "            id_num += 1\n",
    "            headers += '\\n' + header\n",
    "            bullets += '\\n' + bullet\n",
    "#             pct = round((i/len(paths)) * 100)\n",
    "#             if pct % 10 == 0:\n",
    "#                 print('\\r{}% of paths complete'.format(pct), end = '')\n",
    "    \n",
    "    html = customize_template(TEMPLATE, name, headers, bullets)\n",
    "    fn = name.lower().strip().split(' ')\n",
    "    fn = '_'.join(fn) + '.html'\n",
    "    fn = os.path.join('/oak/stanford/groups/malgeehe/celebs/chicago_results/names_html', fn)\n",
    "    \n",
    "    with open(fn, 'w') as f:\n",
    "        f.write(html)\n",
    "        f.close()\n",
    "        \n",
    "    return fn"
   ]
  },
  {
   "cell_type": "code",
   "execution_count": 11,
   "metadata": {
    "collapsed": true
   },
   "outputs": [],
   "source": [
    "people = '''Joe Louis\n",
    "Robert S. Abbott\n",
    "Booker T. Washington\n",
    "Duke Ellington\n",
    "Jack Johnson\n",
    "Phyllis Wheatley\n",
    "Jim Crow\n",
    "Bill Robinson\n",
    "Abraham Lincoln\n",
    "John Brown\n",
    "Jack Ellis\n",
    "John Smith\n",
    "William Johnson\n",
    "Louis Armstrong\n",
    "Frederick Douglass\n",
    "Billy Jones\n",
    "Bob Hayes\n",
    "J. Wesley Jones\n",
    "Haile Selassie\n",
    "Henry Brown\n",
    "William Smith\n",
    "Mary Smith\n",
    "Earl Hines\n",
    "Jay Gould\n",
    "James Smith\n",
    "Cab Calloway\n",
    "James Johnson\n",
    "William Campbell\n",
    "Oscar Depriest\n",
    "Jesse Owens\n",
    "Clarence Muse\n",
    "Fletcher Henderson\n",
    "Al Monroe\n",
    "John Williams\n",
    "William Brown\n",
    "Mary Williams\n",
    "James Brown\n",
    "Mary Jones\n",
    "George Williams\n",
    "John Henry Lewis\n",
    "William Ii\n",
    "George Washington\n",
    "Robert Smith\n",
    "Paul Robeson\n",
    "William Jones\n",
    "Charles Johnson\n",
    "M. Williams\n",
    "Roland Hayes\n",
    "George Smith\n",
    "Mary Johnson\n",
    "Charles Williams\n",
    "Walter White\n",
    "Julian Black\n",
    "George Johnson\n",
    "John Johnson\n",
    "Henry Johnson\n",
    "Wendell Phillips\n",
    "George Jones\n",
    "Marian Anderson\n",
    "Charles Smith\n",
    "Robert Johnson\n",
    "Henry Smith\n",
    "A. Johnson\n",
    "Walter Barnes\n",
    "Henry Armstrong\n",
    "John Harris\n",
    "Mary Brown\n",
    "George Brown\n",
    "John Henry\n",
    "John Thomas\n",
    "Josephine Baker\n",
    "Charles Jackson\n",
    "Bessie Smith\n",
    "Max Schmeling\n",
    "John Ii\n",
    "Bert Williams\n",
    "Ethel Waters\n",
    "Harry Wills\n",
    "John Davis\n",
    "James Weldon Johnson\n",
    "Robert Brown\n",
    "William Davis\n",
    "John Lewis\n",
    "Jack Dempsey\n",
    "J. Johnson\n",
    "John Taylor\n",
    "Clarence Williams\n",
    "Louise Beavers\n",
    "Mary Davis\n",
    "Edward J. Kelly\n",
    "William Jackson\n",
    "Richard B. Harrison\n",
    "L. K. Williams\n",
    "James Jones\n",
    "Dave Peyton\n",
    "Charles Anderson\n",
    "James Harris\n",
    "William Thomas\n",
    "Charles Jones\n",
    "Thelma Williams\n",
    "Warren Williams\n",
    "J. Smith\n",
    "Julius Rosenwald\n",
    "Mike Jacobs\n",
    "Ralph Cooper\n",
    "John Robinson\n",
    "Tom Wilson\n",
    "William White\n",
    "M. Jones\n",
    "John Adams\n",
    "Sam Taylor\n",
    "John Jackson\n",
    "John Anderson\n",
    "Salem Tutt Whitney\n",
    "Jack Blackburn\n",
    "James Jackson\n",
    "George Harris\n",
    "Mary Jackson\n",
    "Franklin D. Roosevelt\n",
    "Helen Smith\n",
    "Robert Jones\n",
    "William Harris\n",
    "Charles Moore\n",
    "Andy Kirk\n",
    "T. Arnold Hill\n",
    "Robert Williams\n",
    "Chick Webb\n",
    "Henry Williams\n",
    "Morris Lewis\n",
    "C. J. Walker\n",
    "Maude Roberts George\n",
    "C. Johnson\n",
    "John Jones\n",
    "M. Johnson\n",
    "William Taylor\n",
    "Frank Edwards\n",
    "Marcus Garvey\n",
    "A. L. Jackson\n",
    "Clarence Cameron White\n",
    "James Ii\n",
    "Joe Brown\n",
    "M. Smith\n",
    "Charles Brown\n",
    "A. Wayman Ward\n",
    "Arthur Johnson\n",
    "Jim Taylor\n",
    "Jesus Christ\n",
    "A. Jones\n",
    "C. Williams\n",
    "Max Baer\n",
    "George White\n",
    "Frank Williams\n",
    "Arthur W. Mitchell\n",
    "James Thomas\n",
    "Willie Bryant\n",
    "R. R. Wright\n",
    "Dorothy Smith\n",
    "Anna Johnson\n",
    "V. Johnson\n",
    "James Robinson\n",
    "Lydia E. Pinkham\n",
    "Billy King\n",
    "Edward Smith\n",
    "Fred Johnson\n",
    "Charles Thompson\n",
    "John Wilson\n",
    "A. Williams\n",
    "Willie Smith\n",
    "William Turner\n",
    "Maude Roberts\n",
    "C. Smith\n",
    "John Roxborough\n",
    "Ruth Johnson\n",
    "Charles Young\n",
    "A. L. Foster\n",
    "J. Williams\n",
    "George Robinson\n",
    "Langston Hughes\n",
    "William H. Jackson\n",
    "Ernest Hall\n",
    "A. Smith\n",
    "Ralph Metcalfe\n",
    "John White\n",
    "James Taylor\n",
    "Frank Jones\n",
    "Anna Jones\n",
    "J. C. Austin\n",
    "Helen Woodward\n",
    "Alice Williams\n",
    "William Green\n",
    "J. Brown\n",
    "William Anderson\n",
    "Charles Harris\n",
    "James Brooks\n",
    "Alice Jones\n",
    "Gus Greenlee\n",
    "Frank Johnson\n",
    "Clarence Smith\n",
    "James Davis\n",
    "James Wilson\n",
    "Robert Jackson\n",
    "Walter Smith\n",
    "George Walker\n",
    "William Robinson\n",
    "Bud Harris\n",
    "K. Williams\n",
    "Theodore Roosevelt\n",
    "Frank Smith\n",
    "John Moore\n",
    "L. Johnson\n",
    "James Anderson\n",
    "Clarence Jones\n",
    "Edward Jones\n",
    "Willie Jones\n",
    "Claude Hopkins\n",
    "Etta Moten\n",
    "H. Johnson\n",
    "Robert Taylor\n",
    "H. Smith\n",
    "A. Brown\n",
    "Walter Johnson\n",
    "William Walker\n",
    "Charles Davis\n",
    "Erskine Tate\n",
    "Charles Ii\n",
    "John Scott\n",
    "Charles Wilson\n",
    "Andrew Jackson\n",
    "L. Smith\n",
    "George Wilson\n",
    "John Allen\n",
    "Eddie Tolan\n",
    "George Lewis\n",
    "V. Brown\n",
    "Henry Ford\n",
    "Uncle Sam\n",
    "V. Smith\n",
    "Harry Smith\n",
    "Fred Smith\n",
    "Mary Lewis\n",
    "Henry Wilson\n",
    "John W. Davis\n",
    "Edward Johnson\n",
    "Frank Wilson\n",
    "C. Jones\n",
    "C. H. Thomas\n",
    "Benny Goodman\n",
    "Roger Williams\n",
    "Walter Brown\n",
    "Albert Jones'''"
   ]
  },
  {
   "cell_type": "code",
   "execution_count": 12,
   "metadata": {
    "collapsed": true
   },
   "outputs": [],
   "source": [
    "people = [x for x in people.split('\\n') if x]"
   ]
  },
  {
   "cell_type": "code",
   "execution_count": 13,
   "metadata": {
    "collapsed": true
   },
   "outputs": [],
   "source": [
    "# remove people who have already been processed\n",
    "done = '/oak/stanford/groups/malgeehe/celebs/chicago_results/names_html'\n",
    "done = [x.split('.html')[0].replace('_', ' ').title() for x in os.listdir(done) if x.endswith('.html')]"
   ]
  },
  {
   "cell_type": "code",
   "execution_count": 16,
   "metadata": {},
   "outputs": [
    {
     "data": {
      "text/plain": [
       "236"
      ]
     },
     "execution_count": 16,
     "metadata": {},
     "output_type": "execute_result"
    }
   ],
   "source": [
    "len(done)"
   ]
  },
  {
   "cell_type": "code",
   "execution_count": 14,
   "metadata": {
    "collapsed": true
   },
   "outputs": [],
   "source": [
    "todo = list(set(people) - set(done))"
   ]
  },
  {
   "cell_type": "code",
   "execution_count": 15,
   "metadata": {},
   "outputs": [
    {
     "data": {
      "text/plain": [
       "205"
      ]
     },
     "execution_count": 15,
     "metadata": {},
     "output_type": "execute_result"
    }
   ],
   "source": [
    "len(todo)"
   ]
  },
  {
   "cell_type": "code",
   "execution_count": 17,
   "metadata": {},
   "outputs": [],
   "source": [
    "stars = list(zip(todo, [META]*len(people), [TEMPLATE]*len(people))) # unnecessary but whatever"
   ]
  },
  {
   "cell_type": "code",
   "execution_count": null,
   "metadata": {
    "collapsed": true
   },
   "outputs": [],
   "source": [
    "with Pool() as p:\n",
    "    fns = p.map(get_html_texts, stars)"
   ]
  },
  {
   "cell_type": "markdown",
   "metadata": {},
   "source": [
    "# Linear process: old code"
   ]
  },
  {
   "cell_type": "code",
   "execution_count": null,
   "metadata": {
    "collapsed": true
   },
   "outputs": [],
   "source": [
    "def make_stars(META, name):\n",
    "    return list(zip(META, [name] * len(META)))"
   ]
  },
  {
   "cell_type": "code",
   "execution_count": null,
   "metadata": {
    "collapsed": true
   },
   "outputs": [],
   "source": [
    "def filter_meta(file, name):\n",
    "    with open(file) as f:\n",
    "        for line in f:\n",
    "            if name in line:\n",
    "                return file"
   ]
  },
  {
   "cell_type": "code",
   "execution_count": null,
   "metadata": {
    "collapsed": true
   },
   "outputs": [],
   "source": [
    "def filter_metas(stars):\n",
    "    start = time.time()\n",
    "    \n",
    "    with Pool() as p:\n",
    "        out = p.starmap(filter_meta, stars)\n",
    "        \n",
    "    print('\\r{} seconds to filter {}'.format(round(time.time() - start), stars[0][1]))\n",
    "    return [x for x in out if x]"
   ]
  },
  {
   "cell_type": "code",
   "execution_count": null,
   "metadata": {
    "collapsed": true
   },
   "outputs": [],
   "source": [
    "def get_html_texts(META, name, TEMPLATE):\n",
    "    stars = make_stars(META, name)\n",
    "    csvs = filter_metas(stars)\n",
    "    id_num = 0\n",
    "    headers = ''\n",
    "    bullets = ''\n",
    "    \n",
    "    for i, csv in enumerate(csvs):\n",
    "        print('\\rcsv #{} of {}'.format(i + 1, len(csvs)), end = '')\n",
    "        subset, paths = get_xml_paths(csv, name)\n",
    "        for i, path in enumerate(paths):\n",
    "            p = make_p(path, name)\n",
    "            header, bullet = make_header_bullet(path, subset, id_num, p)\n",
    "            id_num += 1\n",
    "            headers += '\\n' + header\n",
    "            bullets += '\\n' + bullet\n",
    "            pct = round((i/len(paths)) * 100)\n",
    "            if pct % 10 == 0:\n",
    "                print('\\r{}% of paths complete'.format(pct), end = '')\n",
    "    \n",
    "    html = customize_template(TEMPLATE, name, headers, bullets)\n",
    "    fn = name.lower().strip().split(' ')\n",
    "    fn = '_'.join(fn) + '.html'\n",
    "    fn = os.path.join('/oak/stanford/groups/malgeehe/celebs/chicago_results/names_html', fn)\n",
    "    \n",
    "    with open(fn, 'w') as f:\n",
    "        f.write(html)\n",
    "        f.close()\n",
    "        \n",
    "    return fn"
   ]
  }
 ],
 "metadata": {
  "kernelspec": {
   "display_name": "Python 3",
   "language": "python",
   "name": "python3"
  },
  "language_info": {
   "codemirror_mode": {
    "name": "ipython",
    "version": 3
   },
   "file_extension": ".py",
   "mimetype": "text/x-python",
   "name": "python",
   "nbconvert_exporter": "python",
   "pygments_lexer": "ipython3",
   "version": "3.6.1"
  }
 },
 "nbformat": 4,
 "nbformat_minor": 2
}
