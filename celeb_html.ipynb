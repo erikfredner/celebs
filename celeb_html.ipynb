{
 "cells": [
  {
   "cell_type": "markdown",
   "metadata": {},
   "source": [
    "Creates an HTML document for an individual person in the corpus containing:\n",
    "- A date-ordered list of documents in which they appear, and the relevant paper\n",
    "- Which link to full-text copies of those articles"
   ]
  },
  {
   "cell_type": "code",
   "execution_count": 2,
   "metadata": {
    "collapsed": true
   },
   "outputs": [],
   "source": [
    "import os\n",
    "from lxml import etree\n",
    "import pandas as pd\n",
    "from multiprocessing import Pool\n",
    "import random\n",
    "import time"
   ]
  },
  {
   "cell_type": "code",
   "execution_count": 3,
   "metadata": {
    "collapsed": true
   },
   "outputs": [],
   "source": [
    "TEMPLATE = '''<!DOCTYPE html>\n",
    "<html lang=\"en\">\n",
    "  <head>\n",
    "    <meta charset=\"utf-8\">\n",
    "    <title>{celeb_name}</title>\n",
    "  </head>\n",
    "  <body>\n",
    "  \n",
    "    <header>\n",
    "        <h1>{celeb_name}</h1>\n",
    "    </header>\n",
    "    \n",
    "    <ul>\n",
    "        {toc}\n",
    "    </ul>\n",
    "    \n",
    "    {documents}\n",
    "    \n",
    "  </body>\n",
    "</html>\n",
    "'''"
   ]
  },
  {
   "cell_type": "code",
   "execution_count": 4,
   "metadata": {
    "collapsed": true
   },
   "outputs": [],
   "source": [
    "META = '/oak/stanford/groups/malgeehe/celebs/chicago_results/names_annual'\n",
    "META = [os.path.join(META, x) for x in os.listdir(META) if '._' not in x]\n",
    "META = sorted(META)"
   ]
  },
  {
   "cell_type": "code",
   "execution_count": 16,
   "metadata": {},
   "outputs": [],
   "source": [
    "def filter_meta(files, name):\n",
    "    L = []\n",
    "    for file in files:\n",
    "        fn = os.path.split(file)[1]\n",
    "#         print('\\rchecking {}'.format(fn), end = '')\n",
    "        with open(file) as f:\n",
    "            for line in f:\n",
    "                if name in line:\n",
    "                    L.append(file)\n",
    "#                     print('\\rfound {} in {}'.format(name, fn), end = '')\n",
    "                    break\n",
    "            continue\n",
    "    return L"
   ]
  },
  {
   "cell_type": "code",
   "execution_count": 41,
   "metadata": {
    "collapsed": true
   },
   "outputs": [],
   "source": [
    "def get_xml_paths(csv, name):\n",
    "    df = pd.read_csv(csv)\n",
    "    subset = df[df['person'].str.match(name)]\n",
    "    return subset, list(subset['xml_path'].unique())"
   ]
  },
  {
   "cell_type": "code",
   "execution_count": 42,
   "metadata": {
    "collapsed": true
   },
   "outputs": [],
   "source": [
    "def make_p(path, name):\n",
    "    with open(path) as f:\n",
    "        tree = etree.parse(f)\n",
    "        # get all objects matching type\n",
    "        words = [x.text for x in tree.iterfind(\".//word\")]\n",
    "        names = [x for x in name.strip().lower().split(' ') if x]\n",
    "        # mark target terms\n",
    "        L = []\n",
    "        for word in words:\n",
    "            if word.lower() in names:\n",
    "                fmt = '<mark>' + word + '</mark>'\n",
    "                L.append(fmt)\n",
    "            else:\n",
    "                L.append(word)\n",
    "        text = ' '.join(L)\n",
    "        text = '<p>' + text + '</p>'\n",
    "        return text"
   ]
  },
  {
   "cell_type": "code",
   "execution_count": 43,
   "metadata": {
    "collapsed": true
   },
   "outputs": [],
   "source": [
    "def make_header_bullet(path, subset, id_num, p):\n",
    "    meta = subset[subset['xml_path'] == path][:1] # take top row in case multiple rows\n",
    "    d = meta.to_dict('index')\n",
    "    d = [x for x in d.values()][0] # dumb\n",
    "    data = str(d['year']) + '\\t<i>' + d['paper'].strip() + '</i>\\t' + d['doc_type']\n",
    "    header = '<a id =\"{}\"><h3>{}</h3></a>\\n<p>{}</p>\\n{}'.format(id_num, d['doc_title'].title(),\n",
    "                                                                      data, p) \n",
    "    bullet = '<li><a href=\"#{}\">{data}:\\t\"{title}\"</a>'.format(id_num, data = data,\n",
    "                                                              title = d['doc_title'].title())\n",
    "    return header, bullet"
   ]
  },
  {
   "cell_type": "code",
   "execution_count": 44,
   "metadata": {
    "collapsed": true
   },
   "outputs": [],
   "source": [
    "def update_docs(header, bullet):\n",
    "    headers += '\\n' + header\n",
    "    bullets += '\\n' + bullet\n",
    "    return headers, bullets"
   ]
  },
  {
   "cell_type": "code",
   "execution_count": 45,
   "metadata": {
    "collapsed": true
   },
   "outputs": [],
   "source": [
    "def customize_template(template, name, headers, bullets):\n",
    "    return template.format(celeb_name = name, toc = bullets, documents = headers)"
   ]
  },
  {
   "cell_type": "code",
   "execution_count": 46,
   "metadata": {
    "collapsed": true
   },
   "outputs": [],
   "source": [
    "def get_html_texts(META, name, TEMPLATE):\n",
    "    stars = make_stars(META, name)\n",
    "    csvs = filter_metas(stars)\n",
    "    id_num = 0\n",
    "    headers = ''\n",
    "    bullets = ''\n",
    "    \n",
    "    for i, csv in enumerate(csvs):\n",
    "        print('\\rcsv #{} of {}'.format(i + 1, len(csvs)), end = '')\n",
    "        subset, paths = get_xml_paths(csv, name)\n",
    "        for i, path in enumerate(paths):\n",
    "            p = make_p(path, name)\n",
    "            header, bullet = make_header_bullet(path, subset, id_num, p)\n",
    "            id_num += 1\n",
    "            headers += '\\n' + header\n",
    "            bullets += '\\n' + bullet\n",
    "            pct = round((i/len(paths)) * 100)\n",
    "            if pct % 10 == 0:\n",
    "                print('\\r{}% of paths complete'.format(pct), end = '')\n",
    "    \n",
    "    html = customize_template(TEMPLATE, name, headers, bullets)\n",
    "    fn = name.lower().strip().split(' ')\n",
    "    fn = '_'.join(fn) + '.html'\n",
    "    fn = os.path.join('/oak/stanford/groups/malgeehe/celebs/chicago_results/names_html', fn)\n",
    "    \n",
    "    with open(fn, 'w') as f:\n",
    "        f.write(html)\n",
    "        f.close()\n",
    "        \n",
    "    return fn"
   ]
  },
  {
   "cell_type": "code",
   "execution_count": 47,
   "metadata": {
    "collapsed": true
   },
   "outputs": [],
   "source": [
    "people = '''Uncle Sam\n",
    "Charles G. Dawes\n",
    "Bobby Jones\n",
    "Joan Crawford\n",
    "Westbrook Pegler\n",
    "Clark Gable\n",
    "Quin Ryan\n",
    "Len Small\n",
    "Potter Palmer\n",
    "Frederick Stock\n",
    "Gary Cooper\n",
    "Mary Pickford\n",
    "Eddie Cantor\n",
    "Barney Ross\n",
    "Max Baer\n",
    "Al Capone\n",
    "Charles A. Lindbergh\n",
    "A. A. Sprague\n",
    "Gene Tunney\n",
    "Greta Garbo\n",
    "Norma Shearer\n",
    "Harry Cooper\n",
    "John S. Clark\n",
    "Edward J. Kelly\n",
    "Ted Lyons\n",
    "Santa Claus\n",
    "Alfred E. Smith\n",
    "Gabby Hartnett\n",
    "Tex Rickard\n",
    "Joseph Sabath\n",
    "Calvin Coolidge\n",
    "Helen Hayes\n",
    "Charlie Chaplin\n",
    "Edward Barry\n",
    "Mark Twain\n",
    "William Green\n",
    "Al Jolson\n",
    "Gloria Swanson\n",
    "Frank Parker\n",
    "Bing Crosby\n",
    "Jane Addams\n",
    "Will Rogers\n",
    "Elmer Douglass\n",
    "Bob Elson\n",
    "Al Simmons\n",
    "William J.\n",
    "Rudy Vallee\n",
    "Claudette Colbert\n",
    "John Powell\n",
    "Joe Davis\n",
    "James Simpson\n",
    "Harold L. Ickes\n",
    "Herman N. Bundesen\n",
    "John Barrymore\n",
    "Huey Long\n",
    "Lou Gehrig\n",
    "Walter Hagen\n",
    "Dizzy Dean\n",
    "Jack Benny\n",
    "Jacob Baur\n",
    "Paul Whiteman\n",
    "Janet Gaynor\n",
    "George Vi\n",
    "Bette Davis\n",
    "Tommy Armour\n",
    "Harold Lloyd\n",
    "Myrna Loy\n",
    "Connie Mack\n",
    "Max Schmeling\n",
    "James A. Farley\n",
    "Ely Culbertson\n",
    "George White\n",
    "Bill Terry\n",
    "James Hamilton Lewis\n",
    "Joe E. Brown\n",
    "Jack Sharkey\n",
    "Harold Stokes\n",
    "Julius Rosenwald\n",
    "Elmer Layden\n",
    "Anthony Eden\n",
    "Michael L. Igoe\n",
    "John P. Barnes\n",
    "Cordell Hull\n",
    "Jack Holt\n",
    "Leonard Wood\n",
    "John Marshall\n",
    "Robert J. Dunham\n",
    "Ted Weems\n",
    "Kay Francis\n",
    "William E. Borah\n",
    "Joe Mccarthy\n",
    "Ann Harding\n",
    "Henry A. Miller\n",
    "John Thompson\n",
    "Walter Dill Scott\n",
    "Lionel Barrymore\n",
    "Ben Bernie\n",
    "Neville Chamberlain\n",
    "Abel Davis\n",
    "J. Smith\n",
    "Bill Lee\n",
    "John Simon\n",
    "John A.\n",
    "George Craig Stewart\n",
    "Robert E. Crowe\n",
    "Spencer Tracy\n",
    "Joan Blondell\n",
    "Eddie Collins\n",
    "Irene Dunne\n",
    "John Alden Carpenter\n",
    "Francisco Franco\n",
    "Jean Harlow\n",
    "Jim Londos\n",
    "William Powell\n",
    "Loretta Young\n",
    "Dick Powell\n",
    "Wallace Beery\n",
    "Hugh S. Johnson\n",
    "Frank J. Loesch\n",
    "Rufus C. Dawes\n",
    "Walter Johnson\n",
    "D. F. Kelly\n",
    "Anton J. Cermak\n",
    "Charles S. Deneen\n",
    "Marion Davies\n",
    "Pat O'Brien\n",
    "John Timothy Stone\n",
    "Jack Kearns\n",
    "Frank L. Smith\n",
    "Harry L. Hopkins\n",
    "Ronald Colman\n",
    "Jackie Coogan\n",
    "Mickey Walker\n",
    "Haile Selassie\n",
    "J. Ogden Armour\n",
    "Bud Taylor\n",
    "John W. Davis\n",
    "Douglas Fairbanks\n",
    "Joseph B. David\n",
    "Oscar Nelson\n",
    "Lon Warneke\n",
    "C. Smith\n",
    "Constance Bennett\n",
    "Clayton F. Smith\n",
    "Earl Carroll\n",
    "Mary Garden\n",
    "Lynn Waldorf\n",
    "Cary Grant\n",
    "Joan Bennett\n",
    "John Dillinger\n",
    "Robert Taylor\n",
    "Cecil Smith\n",
    "Floyd Gibbons\n",
    "Chick Evans\n",
    "Frank Murphy\n",
    "Grace Moore\n",
    "Jimmy Dykes\n",
    "Fred Allen\n",
    "Sammy Mandell\n",
    "Dick Hanley\n",
    "Bebe Daniels\n",
    "Babe Herman\n",
    "Carole Lombard\n",
    "Jan Garber\n",
    "Edward Hines\n",
    "Chauncey Mccormick\n",
    "John J. Pershing\n",
    "John D. Rockefeller\n",
    "Norma Talmadge\n",
    "Conrad Nagel\n",
    "John L. Sullivan\n",
    "Philip J. Finnegan\n",
    "Alice Brady\n",
    "George M. Cohan\n",
    "Helen Jacobs\n",
    "John Smith\n",
    "Mike Jacobs\n",
    "Thomas Jefferson\n",
    "Frank Smith\n",
    "George Smith\n",
    "William Ii\n",
    "Charles Ii\n",
    "John Brown\n",
    "James A.\n",
    "Jesus Christ\n",
    "Jack Johnson\n",
    "Harry Wills\n",
    "A. Smith\n",
    "John Ii\n",
    "Andrew Jackson\n",
    "John Anderson\n",
    "George Williams\n",
    "Edward Johnson\n",
    "Jesse Owens\n",
    "James Ii\n",
    "L. Smith\n",
    "John Lewis'''"
   ]
  },
  {
   "cell_type": "code",
   "execution_count": 48,
   "metadata": {
    "collapsed": true
   },
   "outputs": [],
   "source": [
    "people = people.split('\\n')"
   ]
  },
  {
   "cell_type": "code",
   "execution_count": null,
   "metadata": {},
   "outputs": [
    {
     "name": "stdout",
     "output_type": "stream",
     "text": [
      "1 seconds to filter Antoinette Donnelly\n",
      "70% of paths complete"
     ]
    }
   ],
   "source": [
    "for i, person in enumerate(people):\n",
    "    fn = get_html_texts(META, person, TEMPLATE)\n",
    "    print(fn)\n",
    "    print('\\r{} of {}'.format(i + 1, len(people)), end = '')"
   ]
  },
  {
   "cell_type": "markdown",
   "metadata": {},
   "source": [
    "# Linear process: old code"
   ]
  },
  {
   "cell_type": "code",
   "execution_count": 38,
   "metadata": {
    "collapsed": true
   },
   "outputs": [],
   "source": [
    "def make_stars(META, name):\n",
    "    return list(zip(META, [name] * len(META)))"
   ]
  },
  {
   "cell_type": "code",
   "execution_count": 39,
   "metadata": {
    "collapsed": true
   },
   "outputs": [],
   "source": [
    "def filter_meta(file, name):\n",
    "    with open(file) as f:\n",
    "        for line in f:\n",
    "            if name in line:\n",
    "                return file"
   ]
  },
  {
   "cell_type": "code",
   "execution_count": 40,
   "metadata": {
    "collapsed": true
   },
   "outputs": [],
   "source": [
    "def filter_metas(stars):\n",
    "    start = time.time()\n",
    "    \n",
    "    with Pool() as p:\n",
    "        out = p.starmap(filter_meta, stars)\n",
    "        \n",
    "    print('\\r{} seconds to filter {}'.format(round(time.time() - start), stars[0][1]))\n",
    "    return [x for x in out if x]"
   ]
  },
  {
   "cell_type": "code",
   "execution_count": 46,
   "metadata": {
    "collapsed": true
   },
   "outputs": [],
   "source": [
    "def get_html_texts(META, name, TEMPLATE):\n",
    "    stars = make_stars(META, name)\n",
    "    csvs = filter_metas(stars)\n",
    "    id_num = 0\n",
    "    headers = ''\n",
    "    bullets = ''\n",
    "    \n",
    "    for i, csv in enumerate(csvs):\n",
    "        print('\\rcsv #{} of {}'.format(i + 1, len(csvs)), end = '')\n",
    "        subset, paths = get_xml_paths(csv, name)\n",
    "        for i, path in enumerate(paths):\n",
    "            p = make_p(path, name)\n",
    "            header, bullet = make_header_bullet(path, subset, id_num, p)\n",
    "            id_num += 1\n",
    "            headers += '\\n' + header\n",
    "            bullets += '\\n' + bullet\n",
    "            pct = round((i/len(paths)) * 100)\n",
    "            if pct % 10 == 0:\n",
    "                print('\\r{}% of paths complete'.format(pct), end = '')\n",
    "    \n",
    "    html = customize_template(TEMPLATE, name, headers, bullets)\n",
    "    fn = name.lower().strip().split(' ')\n",
    "    fn = '_'.join(fn) + '.html'\n",
    "    fn = os.path.join('/oak/stanford/groups/malgeehe/celebs/chicago_results/names_html', fn)\n",
    "    \n",
    "    with open(fn, 'w') as f:\n",
    "        f.write(html)\n",
    "        f.close()\n",
    "        \n",
    "    return fn"
   ]
  }
 ],
 "metadata": {
  "kernelspec": {
   "display_name": "Python 3",
   "language": "python",
   "name": "python3"
  },
  "language_info": {
   "codemirror_mode": {
    "name": "ipython",
    "version": 3
   },
   "file_extension": ".py",
   "mimetype": "text/x-python",
   "name": "python",
   "nbconvert_exporter": "python",
   "pygments_lexer": "ipython3",
   "version": "3.6.1"
  }
 },
 "nbformat": 4,
 "nbformat_minor": 2
}
