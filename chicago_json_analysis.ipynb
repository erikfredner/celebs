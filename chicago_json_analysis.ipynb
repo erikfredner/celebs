{
 "cells": [
  {
   "cell_type": "markdown",
   "metadata": {},
   "source": [
    "Chicago JSON analysis\n",
    "- Let's create the dataframe and see what shape we're working with"
   ]
  },
  {
   "cell_type": "code",
   "execution_count": 102,
   "metadata": {},
   "outputs": [],
   "source": [
    "import json\n",
    "import os\n",
    "import pandas as pd\n",
    "import random\n",
    "import time\n",
    "import sys"
   ]
  },
  {
   "cell_type": "code",
   "execution_count": 103,
   "metadata": {
    "collapsed": true
   },
   "outputs": [],
   "source": [
    "def get_jsons(root):\n",
    "    return [os.path.join(root,x) for x in os.listdir(root) if x.endswith('.json')]"
   ]
  },
  {
   "cell_type": "code",
   "execution_count": 104,
   "metadata": {
    "collapsed": true
   },
   "outputs": [],
   "source": [
    "def get_data(path): \n",
    "    return json.loads(open(path).read())"
   ]
  },
  {
   "cell_type": "code",
   "execution_count": 105,
   "metadata": {
    "collapsed": true
   },
   "outputs": [],
   "source": [
    "def make_df(data):\n",
    "    df = pd.DataFrame(data)\n",
    "    return df[df['name_id'].notna()]"
   ]
  },
  {
   "cell_type": "code",
   "execution_count": 106,
   "metadata": {},
   "outputs": [],
   "source": [
    "def get_names(df):\n",
    "    # get unique filenames\n",
    "    fns = df['file'].unique()\n",
    "\n",
    "    output = []\n",
    "    for file in fns:\n",
    "        subset = df[df['file'] == file]\n",
    "        ids = subset['name_id'].unique()\n",
    "        names = []\n",
    "        for i in ids:\n",
    "            l = list(subset[subset['name_id'] == i]['word'])\n",
    "            names.append(' '.join(l))\n",
    "        # remove duplicates\n",
    "        names = [x.title() for x in list(set(names))]\n",
    "        for name in names:\n",
    "            output.append((file,name))\n",
    "            \n",
    "    return output"
   ]
  },
  {
   "cell_type": "code",
   "execution_count": 107,
   "metadata": {
    "collapsed": true
   },
   "outputs": [],
   "source": [
    "def process_json(json_path):\n",
    "    start = time.time()\n",
    "    data = get_data(json_path)\n",
    "    df = make_df(data)\n",
    "    names = get_names(df)\n",
    "    out_path = '/scratch/groups/malgeehe/celebs/chicago_people/full_names'\n",
    "    filename = os.path.split(json_path)[-1].split('.json')[0] + '_names.tsv'\n",
    "    out = os.path.join(out_path,filename)\n",
    "    with open(out,'w') as f:\n",
    "        for name in names:\n",
    "            f.write('{}\\t{}\\n'.format(name[0],name[1]))\n",
    "        f.close()\n",
    "    print('finished {} in {} sec'.format(os.path.split(json_path)[-1]), round(time.time()-start))\n",
    "    return"
   ]
  },
  {
   "cell_type": "code",
   "execution_count": 108,
   "metadata": {},
   "outputs": [
    {
     "name": "stdout",
     "output_type": "stream",
     "text": [
      "problem with sys.argv: ['/share/software/user/open/py-jupyter/1.0.0_py36/lib/python3.6/site-packages/ipykernel_launcher.py', '-f', '/tmp/jupyter/kernel-30ba8e9f-792e-49cc-9fcd-12dac423ff0a.json']\n"
     ]
    }
   ],
   "source": [
    "path = [x for x in sys.argv if '/scratch/groups/malgeehe/celebs/chicago_people/json/group_' in x]\n",
    "if len(path) == 1:\n",
    "    path = str(path[0])\n",
    "    process_json(path)\n",
    "else:\n",
    "    print('problem with sys.argv: {}'.format(sys.argv))"
   ]
  }
 ],
 "metadata": {
  "kernelspec": {
   "display_name": "Python 3",
   "language": "python",
   "name": "python3"
  },
  "language_info": {
   "codemirror_mode": {
    "name": "ipython",
    "version": 3
   },
   "file_extension": ".py",
   "mimetype": "text/x-python",
   "name": "python",
   "nbconvert_exporter": "python",
   "pygments_lexer": "ipython3",
   "version": "3.6.1"
  }
 },
 "nbformat": 4,
 "nbformat_minor": 2
}
